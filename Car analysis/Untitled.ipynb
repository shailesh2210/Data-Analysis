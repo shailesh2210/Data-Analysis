{
 "cells": [
  {
   "cell_type": "code",
   "execution_count": null,
   "id": "0d562557",
   "metadata": {},
   "outputs": [],
   "source": [
    "import pandas as pd\n",
    "import numpy as np\n",
    "import seaborn as sns\n",
    "import matplotlib.pyplot as plt\n",
    "%matplotlib inline\n",
    "from sklearn.preprocessing import LabelEncoder"
   ]
  },
  {
   "cell_type": "code",
   "execution_count": null,
   "id": "3bf681a2",
   "metadata": {},
   "outputs": [],
   "source": [
    "data = pd.read_csv(\"car data.csv\")"
   ]
  },
  {
   "cell_type": "code",
   "execution_count": null,
   "id": "52b677be",
   "metadata": {},
   "outputs": [],
   "source": [
    "data.head()"
   ]
  },
  {
   "cell_type": "code",
   "execution_count": null,
   "id": "a78f2983",
   "metadata": {},
   "outputs": [],
   "source": [
    "data.shape"
   ]
  },
  {
   "cell_type": "code",
   "execution_count": null,
   "id": "f1cc4fe6",
   "metadata": {},
   "outputs": [],
   "source": [
    "data.info()"
   ]
  },
  {
   "cell_type": "code",
   "execution_count": null,
   "id": "2956f800",
   "metadata": {},
   "outputs": [],
   "source": [
    "data.describe()"
   ]
  },
  {
   "cell_type": "code",
   "execution_count": null,
   "id": "e8cd02a5",
   "metadata": {},
   "outputs": [],
   "source": [
    "data.isnull().sum()"
   ]
  },
  {
   "cell_type": "code",
   "execution_count": null,
   "id": "1c24b267",
   "metadata": {},
   "outputs": [],
   "source": [
    "# replacing categorical features with mode\n",
    "data[\"Make\"] = data[\"Make\"].fillna(data[\"Make\"].mode()[0])\n",
    "data[\"Model\"] = data[\"Model\"].fillna(data[\"Model\"].mode()[0])\n",
    "data[\"Type\"] = data[\"Type\"].fillna(data[\"Type\"].mode()[0])\n",
    "data[\"Origin\"] = data[\"Origin\"].fillna(data[\"Origin\"].mode()[0])\n",
    "data[\"DriveTrain\"] = data[\"DriveTrain\"].fillna(data[\"DriveTrain\"].mode()[0])"
   ]
  },
  {
   "cell_type": "code",
   "execution_count": null,
   "id": "6e75c812",
   "metadata": {},
   "outputs": [],
   "source": [
    "data.isnull().sum()"
   ]
  },
  {
   "cell_type": "code",
   "execution_count": null,
   "id": "b053adea",
   "metadata": {},
   "outputs": [],
   "source": [
    "data[\"EngineSize\"] = data[\"EngineSize\"].fillna(data[\"EngineSize\"].mean())\n",
    "data[\"Cylinders\"] = data[\"Cylinders\"].fillna(data[\"Cylinders\"].mean())\n",
    "data[\"Horsepower\"] = data[\"Horsepower\"].fillna(data[\"Horsepower\"].mean())\n",
    "data[\"MPG_Highway\"] = data[\"MPG_Highway\"].fillna(data[\"MPG_Highway\"].mean())\n",
    "data[\"MPG_City\"] = data[\"MPG_City\"].fillna(data[\"MPG_City\"].mean())\n",
    "data[\"Weight\"] = data[\"Weight\"].fillna(data[\"Weight\"].mean())\n",
    "data[\"Wheelbase\"] = data[\"Wheelbase\"].fillna(data[\"Wheelbase\"].mean())\n",
    "data[\"Length\"] = data[\"Length\"].fillna(data[\"Length\"].mean())"
   ]
  },
  {
   "cell_type": "code",
   "execution_count": null,
   "id": "d2b92593",
   "metadata": {},
   "outputs": [],
   "source": [
    "data.isnull().sum()"
   ]
  },
  {
   "cell_type": "code",
   "execution_count": null,
   "id": "e558a472",
   "metadata": {},
   "outputs": [],
   "source": [
    "data[\"MSRP\"] = data[\"MSRP\"].str.replace(\"$\",\"\")\n",
    "data[\"Invoice\"] = data[\"Invoice\"].str.replace(\"$\",\"\")"
   ]
  },
  {
   "cell_type": "code",
   "execution_count": null,
   "id": "132d76a2",
   "metadata": {},
   "outputs": [],
   "source": [
    "data[\"MSRP\"] = data[\"MSRP\"].str.replace(\",\",\"\")\n",
    "data[\"Invoice\"] = data[\"Invoice\"].str.replace(\",\",\"\")"
   ]
  },
  {
   "cell_type": "code",
   "execution_count": null,
   "id": "ca9cf39c",
   "metadata": {},
   "outputs": [],
   "source": [
    "data.head(3)"
   ]
  },
  {
   "cell_type": "code",
   "execution_count": null,
   "id": "df9641f2",
   "metadata": {},
   "outputs": [],
   "source": [
    "data[\"Invoice\"] = data[\"Invoice\"].astype(\"float\")\n",
    "data[\"MSRP\"] = data[\"MSRP\"].astype(\"float\")"
   ]
  },
  {
   "cell_type": "code",
   "execution_count": null,
   "id": "f2827c72",
   "metadata": {},
   "outputs": [],
   "source": [
    "data[\"Invoice\"] = data[\"Invoice\"].fillna(data[\"Invoice\"].mean())\n",
    "data[\"MSRP\"] = data[\"MSRP\"].fillna(data[\"MSRP\"].mean())"
   ]
  },
  {
   "cell_type": "code",
   "execution_count": null,
   "id": "f2370d56",
   "metadata": {},
   "outputs": [],
   "source": [
    "data.isnull().sum()"
   ]
  },
  {
   "cell_type": "code",
   "execution_count": null,
   "id": "6d015e05",
   "metadata": {},
   "outputs": [],
   "source": [
    "data.head()"
   ]
  },
  {
   "cell_type": "code",
   "execution_count": null,
   "id": "433c0b08",
   "metadata": {},
   "outputs": [],
   "source": [
    "data[\"Make\"].value_counts()"
   ]
  },
  {
   "cell_type": "code",
   "execution_count": null,
   "id": "3a245609",
   "metadata": {},
   "outputs": [],
   "source": [
    "plt.figure(figsize=(12,10))\n",
    "sns.countplot(y=data[\"Make\"])\n",
    "plt.show()"
   ]
  },
  {
   "cell_type": "code",
   "execution_count": null,
   "id": "3d70f1a6",
   "metadata": {},
   "outputs": [],
   "source": [
    "data[\"Type\"].value_counts()"
   ]
  },
  {
   "cell_type": "code",
   "execution_count": null,
   "id": "311e6076",
   "metadata": {},
   "outputs": [],
   "source": [
    "plt.figure(figsize=(10,6))\n",
    "sns.countplot(data[\"Type\"])\n",
    "plt.show()"
   ]
  },
  {
   "cell_type": "code",
   "execution_count": null,
   "id": "0c95cf2a",
   "metadata": {},
   "outputs": [],
   "source": [
    "data[\"Origin\"].value_counts()"
   ]
  },
  {
   "cell_type": "code",
   "execution_count": null,
   "id": "a07a9d9e",
   "metadata": {},
   "outputs": [],
   "source": [
    "plt.figure(figsize=(10,6))\n",
    "sns.countplot(data[\"Origin\"])\n",
    "plt.show()"
   ]
  },
  {
   "cell_type": "code",
   "execution_count": null,
   "id": "e17ebd23",
   "metadata": {},
   "outputs": [],
   "source": [
    "data[\"DriveTrain\"].value_counts()"
   ]
  },
  {
   "cell_type": "code",
   "execution_count": null,
   "id": "cf331034",
   "metadata": {},
   "outputs": [],
   "source": [
    "plt.figure(figsize=(10,6))\n",
    "sns.countplot(data[\"DriveTrain\"])\n",
    "plt.show()"
   ]
  },
  {
   "cell_type": "markdown",
   "id": "2e355861",
   "metadata": {},
   "source": [
    "### Displaying all the records where the origin is asia or europe"
   ]
  },
  {
   "cell_type": "code",
   "execution_count": null,
   "id": "86beff84",
   "metadata": {},
   "outputs": [],
   "source": [
    "data.head(2)"
   ]
  },
  {
   "cell_type": "code",
   "execution_count": null,
   "id": "bbfdeaa3",
   "metadata": {},
   "outputs": [],
   "source": [
    "data[data[\"Origin\"].isin([\"Asia\", \"Europe\"])]"
   ]
  },
  {
   "cell_type": "markdown",
   "id": "5dd244d6",
   "metadata": {},
   "source": [
    "#### displaying all the record where the type is SUV"
   ]
  },
  {
   "cell_type": "code",
   "execution_count": null,
   "id": "5b33d4a4",
   "metadata": {
    "scrolled": true
   },
   "outputs": [],
   "source": [
    "data[data[\"Type\"] == \"SUV\"]"
   ]
  },
  {
   "cell_type": "markdown",
   "id": "095ac5aa",
   "metadata": {},
   "source": [
    "#### displaying all the rows where the type is SUV and the origin is Asia"
   ]
  },
  {
   "cell_type": "code",
   "execution_count": null,
   "id": "db681bc1",
   "metadata": {
    "scrolled": true
   },
   "outputs": [],
   "source": [
    "data[(data[\"Type\"] == \"SUV\") & (data[\"Origin\"]==\"Asia\")]"
   ]
  },
  {
   "cell_type": "markdown",
   "id": "46dffc0a",
   "metadata": {},
   "source": [
    "#### removing all the rows where the weight is greater than 4000"
   ]
  },
  {
   "cell_type": "code",
   "execution_count": null,
   "id": "386db0bf",
   "metadata": {},
   "outputs": [],
   "source": [
    "data[~(data[\"Weight\"]>4000)]"
   ]
  },
  {
   "cell_type": "markdown",
   "id": "73a98444",
   "metadata": {},
   "source": [
    "#### droping Model column"
   ]
  },
  {
   "cell_type": "code",
   "execution_count": null,
   "id": "43969651",
   "metadata": {},
   "outputs": [],
   "source": [
    "data.drop(\"Model\", axis=1 , inplace=True)"
   ]
  },
  {
   "cell_type": "code",
   "execution_count": null,
   "id": "85a8ff63",
   "metadata": {},
   "outputs": [],
   "source": [
    "data.head(3)"
   ]
  },
  {
   "cell_type": "markdown",
   "id": "24304d02",
   "metadata": {},
   "source": [
    "## Encoding"
   ]
  },
  {
   "cell_type": "code",
   "execution_count": null,
   "id": "bcab1107",
   "metadata": {},
   "outputs": [],
   "source": [
    "le = LabelEncoder()"
   ]
  },
  {
   "cell_type": "code",
   "execution_count": null,
   "id": "a11aba0a",
   "metadata": {},
   "outputs": [],
   "source": [
    "data[\"Make\"] = le.fit_transform(data[\"Make\"])\n",
    "data[\"Type\"] = le.fit_transform(data[\"Type\"])\n",
    "data[\"Origin\"] = le.fit_transform(data[\"Origin\"])\n",
    "data[\"DriveTrain\"] = le.fit_transform(data[\"DriveTrain\"])"
   ]
  },
  {
   "cell_type": "code",
   "execution_count": null,
   "id": "56736fd9",
   "metadata": {},
   "outputs": [],
   "source": [
    "data.head(2)"
   ]
  },
  {
   "cell_type": "markdown",
   "id": "db1bc748",
   "metadata": {},
   "source": [
    "# *********** DONE *******"
   ]
  }
 ],
 "metadata": {
  "kernelspec": {
   "display_name": "Python 3 (ipykernel)",
   "language": "python",
   "name": "python3"
  },
  "language_info": {
   "codemirror_mode": {
    "name": "ipython",
    "version": 3
   },
   "file_extension": ".py",
   "mimetype": "text/x-python",
   "name": "python",
   "nbconvert_exporter": "python",
   "pygments_lexer": "ipython3",
   "version": "3.10.2"
  }
 },
 "nbformat": 4,
 "nbformat_minor": 5
}
