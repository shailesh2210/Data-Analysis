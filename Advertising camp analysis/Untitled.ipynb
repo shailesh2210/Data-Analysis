{
 "cells": [
  {
   "cell_type": "markdown",
   "id": "d78721eb",
   "metadata": {},
   "source": [
    "## All the key fields like: Platform, Type, Medium, Sub Channel, Audience, Creative have already been mapped to the data."
   ]
  },
  {
   "cell_type": "markdown",
   "id": "cc4d2767",
   "metadata": {},
   "source": [
    "\n",
    "\n",
    "- Platform: Marketing platforms on which campaigns are running majorly: Google Ads and Facebook Ads\n",
    "- Type: Type of campaign, In this data only Gogole search and Facebook Conversion campaigns have boon considered\n",
    "- Medium: The way we are connecting to people in our Marketing campaigns either via some Keywords or Creatives.\n",
    "- Sub Channel: Sub channel is under Google Search which type of keywords have been targeted ot in Facebook which on subchannel we are targeting\n",
    "- Audience: Multiple Type of audiences are getting targeted in different campaigns an dthose have been encrypted as Audience 1,2,3\n",
    "- Creative: This if for facebook what type of Image/Video/Carousel we are using in our Ads."
   ]
  },
  {
   "cell_type": "markdown",
   "id": "f4579582",
   "metadata": {},
   "source": [
    "## Required Task Output:\n",
    " have to carry out EDA and the insights automatically."
   ]
  },
  {
   "cell_type": "code",
   "execution_count": 1,
   "id": "c6fa1693",
   "metadata": {},
   "outputs": [],
   "source": [
    "import pandas as pd\n",
    "import numpy as np\n",
    "import seaborn as sns\n",
    "import matplotlib.pyplot as plt\n",
    "%matplotlib inline"
   ]
  },
  {
   "cell_type": "code",
   "execution_count": 2,
   "id": "64f51601",
   "metadata": {},
   "outputs": [],
   "source": [
    "data = pd.read_excel(\"data/Data Analyst Assignment.xlsx\")"
   ]
  },
  {
   "cell_type": "code",
   "execution_count": 3,
   "id": "d0042df6",
   "metadata": {},
   "outputs": [
    {
     "data": {
      "text/html": [
       "<div>\n",
       "<style scoped>\n",
       "    .dataframe tbody tr th:only-of-type {\n",
       "        vertical-align: middle;\n",
       "    }\n",
       "\n",
       "    .dataframe tbody tr th {\n",
       "        vertical-align: top;\n",
       "    }\n",
       "\n",
       "    .dataframe thead th {\n",
       "        text-align: right;\n",
       "    }\n",
       "</style>\n",
       "<table border=\"1\" class=\"dataframe\">\n",
       "  <thead>\n",
       "    <tr style=\"text-align: right;\">\n",
       "      <th></th>\n",
       "      <th>Date</th>\n",
       "      <th>product</th>\n",
       "      <th>phase</th>\n",
       "      <th>campaign_platform</th>\n",
       "      <th>campaign_type</th>\n",
       "      <th>communication_medium</th>\n",
       "      <th>subchannel</th>\n",
       "      <th>audience_type</th>\n",
       "      <th>creative_type</th>\n",
       "      <th>creative_name</th>\n",
       "      <th>device</th>\n",
       "      <th>age</th>\n",
       "      <th>spends</th>\n",
       "      <th>impressions</th>\n",
       "      <th>clicks</th>\n",
       "      <th>link_clicks</th>\n",
       "    </tr>\n",
       "  </thead>\n",
       "  <tbody>\n",
       "    <tr>\n",
       "      <th>0</th>\n",
       "      <td>2019-10-16</td>\n",
       "      <td>Product 1</td>\n",
       "      <td>Performance</td>\n",
       "      <td>Google Ads</td>\n",
       "      <td>Search</td>\n",
       "      <td>Search Keywords</td>\n",
       "      <td>Brand</td>\n",
       "      <td>'-</td>\n",
       "      <td>'-</td>\n",
       "      <td>'-</td>\n",
       "      <td>Desktop</td>\n",
       "      <td>18-24</td>\n",
       "      <td>0.00</td>\n",
       "      <td>2</td>\n",
       "      <td>0</td>\n",
       "      <td>0.0</td>\n",
       "    </tr>\n",
       "    <tr>\n",
       "      <th>1</th>\n",
       "      <td>2019-10-16</td>\n",
       "      <td>Product 1</td>\n",
       "      <td>Performance</td>\n",
       "      <td>Google Ads</td>\n",
       "      <td>Search</td>\n",
       "      <td>Search Keywords</td>\n",
       "      <td>Brand</td>\n",
       "      <td>'-</td>\n",
       "      <td>'-</td>\n",
       "      <td>'-</td>\n",
       "      <td>Desktop</td>\n",
       "      <td>25-34</td>\n",
       "      <td>0.00</td>\n",
       "      <td>5</td>\n",
       "      <td>0</td>\n",
       "      <td>0.0</td>\n",
       "    </tr>\n",
       "    <tr>\n",
       "      <th>2</th>\n",
       "      <td>2019-10-16</td>\n",
       "      <td>Product 1</td>\n",
       "      <td>Performance</td>\n",
       "      <td>Google Ads</td>\n",
       "      <td>Search</td>\n",
       "      <td>Search Keywords</td>\n",
       "      <td>Brand</td>\n",
       "      <td>'-</td>\n",
       "      <td>'-</td>\n",
       "      <td>'-</td>\n",
       "      <td>Desktop</td>\n",
       "      <td>35-44</td>\n",
       "      <td>0.00</td>\n",
       "      <td>1</td>\n",
       "      <td>0</td>\n",
       "      <td>0.0</td>\n",
       "    </tr>\n",
       "    <tr>\n",
       "      <th>3</th>\n",
       "      <td>2019-10-16</td>\n",
       "      <td>Product 1</td>\n",
       "      <td>Performance</td>\n",
       "      <td>Google Ads</td>\n",
       "      <td>Search</td>\n",
       "      <td>Search Keywords</td>\n",
       "      <td>Brand</td>\n",
       "      <td>'-</td>\n",
       "      <td>'-</td>\n",
       "      <td>'-</td>\n",
       "      <td>Desktop</td>\n",
       "      <td>Undetermined</td>\n",
       "      <td>14.63</td>\n",
       "      <td>5</td>\n",
       "      <td>3</td>\n",
       "      <td>0.0</td>\n",
       "    </tr>\n",
       "    <tr>\n",
       "      <th>4</th>\n",
       "      <td>2019-10-18</td>\n",
       "      <td>Product 1</td>\n",
       "      <td>Performance</td>\n",
       "      <td>Google Ads</td>\n",
       "      <td>Search</td>\n",
       "      <td>Search Keywords</td>\n",
       "      <td>Brand</td>\n",
       "      <td>'-</td>\n",
       "      <td>'-</td>\n",
       "      <td>'-</td>\n",
       "      <td>Desktop</td>\n",
       "      <td>18-24</td>\n",
       "      <td>53.31</td>\n",
       "      <td>10</td>\n",
       "      <td>2</td>\n",
       "      <td>0.0</td>\n",
       "    </tr>\n",
       "  </tbody>\n",
       "</table>\n",
       "</div>"
      ],
      "text/plain": [
       "        Date    product        phase campaign_platform campaign_type  \\\n",
       "0 2019-10-16  Product 1  Performance        Google Ads        Search   \n",
       "1 2019-10-16  Product 1  Performance        Google Ads        Search   \n",
       "2 2019-10-16  Product 1  Performance        Google Ads        Search   \n",
       "3 2019-10-16  Product 1  Performance        Google Ads        Search   \n",
       "4 2019-10-18  Product 1  Performance        Google Ads        Search   \n",
       "\n",
       "  communication_medium subchannel audience_type creative_type creative_name  \\\n",
       "0      Search Keywords      Brand            '-            '-            '-   \n",
       "1      Search Keywords      Brand            '-            '-            '-   \n",
       "2      Search Keywords      Brand            '-            '-            '-   \n",
       "3      Search Keywords      Brand            '-            '-            '-   \n",
       "4      Search Keywords      Brand            '-            '-            '-   \n",
       "\n",
       "    device           age  spends  impressions  clicks  link_clicks  \n",
       "0  Desktop         18-24    0.00            2       0          0.0  \n",
       "1  Desktop         25-34    0.00            5       0          0.0  \n",
       "2  Desktop         35-44    0.00            1       0          0.0  \n",
       "3  Desktop  Undetermined   14.63            5       3          0.0  \n",
       "4  Desktop         18-24   53.31           10       2          0.0  "
      ]
     },
     "execution_count": 3,
     "metadata": {},
     "output_type": "execute_result"
    }
   ],
   "source": [
    "data.head()"
   ]
  },
  {
   "cell_type": "code",
   "execution_count": 4,
   "id": "8f49a0a6",
   "metadata": {},
   "outputs": [
    {
     "data": {
      "text/plain": [
       "(16834, 16)"
      ]
     },
     "execution_count": 4,
     "metadata": {},
     "output_type": "execute_result"
    }
   ],
   "source": [
    "data.shape"
   ]
  },
  {
   "cell_type": "code",
   "execution_count": 5,
   "id": "b7b7e50d",
   "metadata": {},
   "outputs": [
    {
     "name": "stdout",
     "output_type": "stream",
     "text": [
      "<class 'pandas.core.frame.DataFrame'>\n",
      "RangeIndex: 16834 entries, 0 to 16833\n",
      "Data columns (total 16 columns):\n",
      " #   Column                Non-Null Count  Dtype         \n",
      "---  ------                --------------  -----         \n",
      " 0   Date                  16834 non-null  datetime64[ns]\n",
      " 1   product               16834 non-null  object        \n",
      " 2   phase                 16834 non-null  object        \n",
      " 3   campaign_platform     16834 non-null  object        \n",
      " 4   campaign_type         16834 non-null  object        \n",
      " 5   communication_medium  16834 non-null  object        \n",
      " 6   subchannel            16834 non-null  object        \n",
      " 7   audience_type         16834 non-null  object        \n",
      " 8   creative_type         16834 non-null  object        \n",
      " 9   creative_name         16834 non-null  object        \n",
      " 10  device                16834 non-null  object        \n",
      " 11  age                   16834 non-null  object        \n",
      " 12  spends                16834 non-null  float64       \n",
      " 13  impressions           16834 non-null  int64         \n",
      " 14  clicks                16834 non-null  int64         \n",
      " 15  link_clicks           16288 non-null  float64       \n",
      "dtypes: datetime64[ns](1), float64(2), int64(2), object(11)\n",
      "memory usage: 2.1+ MB\n"
     ]
    }
   ],
   "source": [
    "data.info()"
   ]
  },
  {
   "cell_type": "code",
   "execution_count": 6,
   "id": "5c9756ae",
   "metadata": {},
   "outputs": [
    {
     "data": {
      "text/html": [
       "<div>\n",
       "<style scoped>\n",
       "    .dataframe tbody tr th:only-of-type {\n",
       "        vertical-align: middle;\n",
       "    }\n",
       "\n",
       "    .dataframe tbody tr th {\n",
       "        vertical-align: top;\n",
       "    }\n",
       "\n",
       "    .dataframe thead th {\n",
       "        text-align: right;\n",
       "    }\n",
       "</style>\n",
       "<table border=\"1\" class=\"dataframe\">\n",
       "  <thead>\n",
       "    <tr style=\"text-align: right;\">\n",
       "      <th></th>\n",
       "      <th>spends</th>\n",
       "      <th>impressions</th>\n",
       "      <th>clicks</th>\n",
       "      <th>link_clicks</th>\n",
       "    </tr>\n",
       "  </thead>\n",
       "  <tbody>\n",
       "    <tr>\n",
       "      <th>count</th>\n",
       "      <td>16834.000000</td>\n",
       "      <td>16834.000000</td>\n",
       "      <td>16834.000000</td>\n",
       "      <td>16288.000000</td>\n",
       "    </tr>\n",
       "    <tr>\n",
       "      <th>mean</th>\n",
       "      <td>148.694236</td>\n",
       "      <td>287.959190</td>\n",
       "      <td>11.977783</td>\n",
       "      <td>2.170371</td>\n",
       "    </tr>\n",
       "    <tr>\n",
       "      <th>std</th>\n",
       "      <td>483.895724</td>\n",
       "      <td>2444.450313</td>\n",
       "      <td>44.796963</td>\n",
       "      <td>18.659132</td>\n",
       "    </tr>\n",
       "    <tr>\n",
       "      <th>min</th>\n",
       "      <td>0.000000</td>\n",
       "      <td>0.000000</td>\n",
       "      <td>0.000000</td>\n",
       "      <td>0.000000</td>\n",
       "    </tr>\n",
       "    <tr>\n",
       "      <th>25%</th>\n",
       "      <td>0.180000</td>\n",
       "      <td>3.000000</td>\n",
       "      <td>0.000000</td>\n",
       "      <td>0.000000</td>\n",
       "    </tr>\n",
       "    <tr>\n",
       "      <th>50%</th>\n",
       "      <td>22.535000</td>\n",
       "      <td>13.000000</td>\n",
       "      <td>2.000000</td>\n",
       "      <td>0.000000</td>\n",
       "    </tr>\n",
       "    <tr>\n",
       "      <th>75%</th>\n",
       "      <td>110.020000</td>\n",
       "      <td>64.000000</td>\n",
       "      <td>8.000000</td>\n",
       "      <td>0.000000</td>\n",
       "    </tr>\n",
       "    <tr>\n",
       "      <th>max</th>\n",
       "      <td>9221.960000</td>\n",
       "      <td>67454.000000</td>\n",
       "      <td>1075.000000</td>\n",
       "      <td>450.000000</td>\n",
       "    </tr>\n",
       "  </tbody>\n",
       "</table>\n",
       "</div>"
      ],
      "text/plain": [
       "             spends   impressions        clicks   link_clicks\n",
       "count  16834.000000  16834.000000  16834.000000  16288.000000\n",
       "mean     148.694236    287.959190     11.977783      2.170371\n",
       "std      483.895724   2444.450313     44.796963     18.659132\n",
       "min        0.000000      0.000000      0.000000      0.000000\n",
       "25%        0.180000      3.000000      0.000000      0.000000\n",
       "50%       22.535000     13.000000      2.000000      0.000000\n",
       "75%      110.020000     64.000000      8.000000      0.000000\n",
       "max     9221.960000  67454.000000   1075.000000    450.000000"
      ]
     },
     "execution_count": 6,
     "metadata": {},
     "output_type": "execute_result"
    }
   ],
   "source": [
    "data.describe()"
   ]
  },
  {
   "cell_type": "code",
   "execution_count": 7,
   "id": "9d603c20",
   "metadata": {},
   "outputs": [
    {
     "data": {
      "text/plain": [
       "Date                    datetime64[ns]\n",
       "product                         object\n",
       "phase                           object\n",
       "campaign_platform               object\n",
       "campaign_type                   object\n",
       "communication_medium            object\n",
       "subchannel                      object\n",
       "audience_type                   object\n",
       "creative_type                   object\n",
       "creative_name                   object\n",
       "device                          object\n",
       "age                             object\n",
       "spends                         float64\n",
       "impressions                      int64\n",
       "clicks                           int64\n",
       "link_clicks                    float64\n",
       "dtype: object"
      ]
     },
     "execution_count": 7,
     "metadata": {},
     "output_type": "execute_result"
    }
   ],
   "source": [
    "data.dtypes"
   ]
  },
  {
   "cell_type": "code",
   "execution_count": 8,
   "id": "fb55fee3",
   "metadata": {},
   "outputs": [
    {
     "data": {
      "text/plain": [
       "Date                      0\n",
       "product                   0\n",
       "phase                     0\n",
       "campaign_platform         0\n",
       "campaign_type             0\n",
       "communication_medium      0\n",
       "subchannel                0\n",
       "audience_type             0\n",
       "creative_type             0\n",
       "creative_name             0\n",
       "device                    0\n",
       "age                       0\n",
       "spends                    0\n",
       "impressions               0\n",
       "clicks                    0\n",
       "link_clicks             546\n",
       "dtype: int64"
      ]
     },
     "execution_count": 8,
     "metadata": {},
     "output_type": "execute_result"
    }
   ],
   "source": [
    "data.isnull().sum()"
   ]
  },
  {
   "cell_type": "markdown",
   "id": "2a129e4e",
   "metadata": {},
   "source": [
    "## Exploratory Data Analysis"
   ]
  },
  {
   "cell_type": "markdown",
   "id": "4b2b01f6",
   "metadata": {},
   "source": [
    "### 1. date"
   ]
  },
  {
   "cell_type": "code",
   "execution_count": 9,
   "id": "560ec28f",
   "metadata": {},
   "outputs": [],
   "source": [
    "# Sorting the data based on Date column\n",
    "data.sort_values(by=\"Date\" , inplace=True)"
   ]
  },
  {
   "cell_type": "code",
   "execution_count": 10,
   "id": "39a6135b",
   "metadata": {},
   "outputs": [
    {
     "data": {
      "text/html": [
       "<div>\n",
       "<style scoped>\n",
       "    .dataframe tbody tr th:only-of-type {\n",
       "        vertical-align: middle;\n",
       "    }\n",
       "\n",
       "    .dataframe tbody tr th {\n",
       "        vertical-align: top;\n",
       "    }\n",
       "\n",
       "    .dataframe thead th {\n",
       "        text-align: right;\n",
       "    }\n",
       "</style>\n",
       "<table border=\"1\" class=\"dataframe\">\n",
       "  <thead>\n",
       "    <tr style=\"text-align: right;\">\n",
       "      <th></th>\n",
       "      <th>Date</th>\n",
       "      <th>product</th>\n",
       "      <th>phase</th>\n",
       "      <th>campaign_platform</th>\n",
       "      <th>campaign_type</th>\n",
       "      <th>communication_medium</th>\n",
       "      <th>subchannel</th>\n",
       "      <th>audience_type</th>\n",
       "      <th>creative_type</th>\n",
       "      <th>creative_name</th>\n",
       "      <th>device</th>\n",
       "      <th>age</th>\n",
       "      <th>spends</th>\n",
       "      <th>impressions</th>\n",
       "      <th>clicks</th>\n",
       "      <th>link_clicks</th>\n",
       "    </tr>\n",
       "  </thead>\n",
       "  <tbody>\n",
       "    <tr>\n",
       "      <th>0</th>\n",
       "      <td>2019-10-16</td>\n",
       "      <td>Product 1</td>\n",
       "      <td>Performance</td>\n",
       "      <td>Google Ads</td>\n",
       "      <td>Search</td>\n",
       "      <td>Search Keywords</td>\n",
       "      <td>Brand</td>\n",
       "      <td>'-</td>\n",
       "      <td>'-</td>\n",
       "      <td>'-</td>\n",
       "      <td>Desktop</td>\n",
       "      <td>18-24</td>\n",
       "      <td>0.00</td>\n",
       "      <td>2</td>\n",
       "      <td>0</td>\n",
       "      <td>0.0</td>\n",
       "    </tr>\n",
       "    <tr>\n",
       "      <th>1</th>\n",
       "      <td>2019-10-16</td>\n",
       "      <td>Product 1</td>\n",
       "      <td>Performance</td>\n",
       "      <td>Google Ads</td>\n",
       "      <td>Search</td>\n",
       "      <td>Search Keywords</td>\n",
       "      <td>Brand</td>\n",
       "      <td>'-</td>\n",
       "      <td>'-</td>\n",
       "      <td>'-</td>\n",
       "      <td>Desktop</td>\n",
       "      <td>25-34</td>\n",
       "      <td>0.00</td>\n",
       "      <td>5</td>\n",
       "      <td>0</td>\n",
       "      <td>0.0</td>\n",
       "    </tr>\n",
       "    <tr>\n",
       "      <th>2</th>\n",
       "      <td>2019-10-16</td>\n",
       "      <td>Product 1</td>\n",
       "      <td>Performance</td>\n",
       "      <td>Google Ads</td>\n",
       "      <td>Search</td>\n",
       "      <td>Search Keywords</td>\n",
       "      <td>Brand</td>\n",
       "      <td>'-</td>\n",
       "      <td>'-</td>\n",
       "      <td>'-</td>\n",
       "      <td>Desktop</td>\n",
       "      <td>35-44</td>\n",
       "      <td>0.00</td>\n",
       "      <td>1</td>\n",
       "      <td>0</td>\n",
       "      <td>0.0</td>\n",
       "    </tr>\n",
       "    <tr>\n",
       "      <th>3</th>\n",
       "      <td>2019-10-16</td>\n",
       "      <td>Product 1</td>\n",
       "      <td>Performance</td>\n",
       "      <td>Google Ads</td>\n",
       "      <td>Search</td>\n",
       "      <td>Search Keywords</td>\n",
       "      <td>Brand</td>\n",
       "      <td>'-</td>\n",
       "      <td>'-</td>\n",
       "      <td>'-</td>\n",
       "      <td>Desktop</td>\n",
       "      <td>Undetermined</td>\n",
       "      <td>14.63</td>\n",
       "      <td>5</td>\n",
       "      <td>3</td>\n",
       "      <td>0.0</td>\n",
       "    </tr>\n",
       "    <tr>\n",
       "      <th>17</th>\n",
       "      <td>2019-10-18</td>\n",
       "      <td>Product 1</td>\n",
       "      <td>Performance</td>\n",
       "      <td>Google Ads</td>\n",
       "      <td>Search</td>\n",
       "      <td>Search Keywords</td>\n",
       "      <td>Brand</td>\n",
       "      <td>'-</td>\n",
       "      <td>'-</td>\n",
       "      <td>'-</td>\n",
       "      <td>Mobile</td>\n",
       "      <td>Undetermined</td>\n",
       "      <td>0.00</td>\n",
       "      <td>2</td>\n",
       "      <td>0</td>\n",
       "      <td>0.0</td>\n",
       "    </tr>\n",
       "  </tbody>\n",
       "</table>\n",
       "</div>"
      ],
      "text/plain": [
       "         Date    product        phase campaign_platform campaign_type  \\\n",
       "0  2019-10-16  Product 1  Performance        Google Ads        Search   \n",
       "1  2019-10-16  Product 1  Performance        Google Ads        Search   \n",
       "2  2019-10-16  Product 1  Performance        Google Ads        Search   \n",
       "3  2019-10-16  Product 1  Performance        Google Ads        Search   \n",
       "17 2019-10-18  Product 1  Performance        Google Ads        Search   \n",
       "\n",
       "   communication_medium subchannel audience_type creative_type creative_name  \\\n",
       "0       Search Keywords      Brand            '-            '-            '-   \n",
       "1       Search Keywords      Brand            '-            '-            '-   \n",
       "2       Search Keywords      Brand            '-            '-            '-   \n",
       "3       Search Keywords      Brand            '-            '-            '-   \n",
       "17      Search Keywords      Brand            '-            '-            '-   \n",
       "\n",
       "     device           age  spends  impressions  clicks  link_clicks  \n",
       "0   Desktop         18-24    0.00            2       0          0.0  \n",
       "1   Desktop         25-34    0.00            5       0          0.0  \n",
       "2   Desktop         35-44    0.00            1       0          0.0  \n",
       "3   Desktop  Undetermined   14.63            5       3          0.0  \n",
       "17   Mobile  Undetermined    0.00            2       0          0.0  "
      ]
     },
     "execution_count": 10,
     "metadata": {},
     "output_type": "execute_result"
    }
   ],
   "source": [
    "data.head()"
   ]
  },
  {
   "cell_type": "code",
   "execution_count": 11,
   "id": "f1579ae4",
   "metadata": {},
   "outputs": [
    {
     "data": {
      "text/html": [
       "<div>\n",
       "<style scoped>\n",
       "    .dataframe tbody tr th:only-of-type {\n",
       "        vertical-align: middle;\n",
       "    }\n",
       "\n",
       "    .dataframe tbody tr th {\n",
       "        vertical-align: top;\n",
       "    }\n",
       "\n",
       "    .dataframe thead th {\n",
       "        text-align: right;\n",
       "    }\n",
       "</style>\n",
       "<table border=\"1\" class=\"dataframe\">\n",
       "  <thead>\n",
       "    <tr style=\"text-align: right;\">\n",
       "      <th></th>\n",
       "      <th>Date</th>\n",
       "      <th>product</th>\n",
       "      <th>phase</th>\n",
       "      <th>campaign_platform</th>\n",
       "      <th>campaign_type</th>\n",
       "      <th>communication_medium</th>\n",
       "      <th>subchannel</th>\n",
       "      <th>audience_type</th>\n",
       "      <th>creative_type</th>\n",
       "      <th>creative_name</th>\n",
       "      <th>device</th>\n",
       "      <th>age</th>\n",
       "      <th>spends</th>\n",
       "      <th>impressions</th>\n",
       "      <th>clicks</th>\n",
       "      <th>link_clicks</th>\n",
       "    </tr>\n",
       "  </thead>\n",
       "  <tbody>\n",
       "    <tr>\n",
       "      <th>16818</th>\n",
       "      <td>2020-07-07</td>\n",
       "      <td>Product 1</td>\n",
       "      <td>Performance</td>\n",
       "      <td>Google Ads</td>\n",
       "      <td>Search</td>\n",
       "      <td>Search Keywords</td>\n",
       "      <td>Brand</td>\n",
       "      <td>'-</td>\n",
       "      <td>'-</td>\n",
       "      <td>'-</td>\n",
       "      <td>Mobile</td>\n",
       "      <td>25-34</td>\n",
       "      <td>39.33</td>\n",
       "      <td>67</td>\n",
       "      <td>16</td>\n",
       "      <td>0.0</td>\n",
       "    </tr>\n",
       "    <tr>\n",
       "      <th>16817</th>\n",
       "      <td>2020-07-07</td>\n",
       "      <td>Product 1</td>\n",
       "      <td>Performance</td>\n",
       "      <td>Google Ads</td>\n",
       "      <td>Search</td>\n",
       "      <td>Search Keywords</td>\n",
       "      <td>Brand</td>\n",
       "      <td>'-</td>\n",
       "      <td>'-</td>\n",
       "      <td>'-</td>\n",
       "      <td>Mobile</td>\n",
       "      <td>18-24</td>\n",
       "      <td>27.83</td>\n",
       "      <td>55</td>\n",
       "      <td>15</td>\n",
       "      <td>0.0</td>\n",
       "    </tr>\n",
       "    <tr>\n",
       "      <th>16832</th>\n",
       "      <td>2020-07-07</td>\n",
       "      <td>Product 1</td>\n",
       "      <td>Performance</td>\n",
       "      <td>Google Ads</td>\n",
       "      <td>Search</td>\n",
       "      <td>Search Keywords</td>\n",
       "      <td>Brand</td>\n",
       "      <td>'-</td>\n",
       "      <td>'-</td>\n",
       "      <td>'-</td>\n",
       "      <td>Mobile</td>\n",
       "      <td>65 or more</td>\n",
       "      <td>0.00</td>\n",
       "      <td>3</td>\n",
       "      <td>0</td>\n",
       "      <td>0.0</td>\n",
       "    </tr>\n",
       "    <tr>\n",
       "      <th>16824</th>\n",
       "      <td>2020-07-07</td>\n",
       "      <td>Product 1</td>\n",
       "      <td>Performance</td>\n",
       "      <td>Google Ads</td>\n",
       "      <td>Search</td>\n",
       "      <td>Search Keywords</td>\n",
       "      <td>Brand</td>\n",
       "      <td>'-</td>\n",
       "      <td>'-</td>\n",
       "      <td>'-</td>\n",
       "      <td>Desktop</td>\n",
       "      <td>18-24</td>\n",
       "      <td>3.04</td>\n",
       "      <td>4</td>\n",
       "      <td>3</td>\n",
       "      <td>0.0</td>\n",
       "    </tr>\n",
       "    <tr>\n",
       "      <th>16833</th>\n",
       "      <td>2020-07-07</td>\n",
       "      <td>Product 1</td>\n",
       "      <td>Performance</td>\n",
       "      <td>Google Ads</td>\n",
       "      <td>Search</td>\n",
       "      <td>Search Keywords</td>\n",
       "      <td>Brand</td>\n",
       "      <td>'-</td>\n",
       "      <td>'-</td>\n",
       "      <td>'-</td>\n",
       "      <td>Mobile</td>\n",
       "      <td>Undetermined</td>\n",
       "      <td>1.40</td>\n",
       "      <td>14</td>\n",
       "      <td>1</td>\n",
       "      <td>0.0</td>\n",
       "    </tr>\n",
       "  </tbody>\n",
       "</table>\n",
       "</div>"
      ],
      "text/plain": [
       "            Date    product        phase campaign_platform campaign_type  \\\n",
       "16818 2020-07-07  Product 1  Performance        Google Ads        Search   \n",
       "16817 2020-07-07  Product 1  Performance        Google Ads        Search   \n",
       "16832 2020-07-07  Product 1  Performance        Google Ads        Search   \n",
       "16824 2020-07-07  Product 1  Performance        Google Ads        Search   \n",
       "16833 2020-07-07  Product 1  Performance        Google Ads        Search   \n",
       "\n",
       "      communication_medium subchannel audience_type creative_type  \\\n",
       "16818      Search Keywords      Brand            '-            '-   \n",
       "16817      Search Keywords      Brand            '-            '-   \n",
       "16832      Search Keywords      Brand            '-            '-   \n",
       "16824      Search Keywords      Brand            '-            '-   \n",
       "16833      Search Keywords      Brand            '-            '-   \n",
       "\n",
       "      creative_name   device           age  spends  impressions  clicks  \\\n",
       "16818            '-   Mobile         25-34   39.33           67      16   \n",
       "16817            '-   Mobile         18-24   27.83           55      15   \n",
       "16832            '-   Mobile    65 or more    0.00            3       0   \n",
       "16824            '-  Desktop         18-24    3.04            4       3   \n",
       "16833            '-   Mobile  Undetermined    1.40           14       1   \n",
       "\n",
       "       link_clicks  \n",
       "16818          0.0  \n",
       "16817          0.0  \n",
       "16832          0.0  \n",
       "16824          0.0  \n",
       "16833          0.0  "
      ]
     },
     "execution_count": 11,
     "metadata": {},
     "output_type": "execute_result"
    }
   ],
   "source": [
    "data.tail()"
   ]
  },
  {
   "cell_type": "code",
   "execution_count": 12,
   "id": "bb0eb027",
   "metadata": {
    "scrolled": true
   },
   "outputs": [
    {
     "data": {
      "text/plain": [
       "Timestamp('2019-10-16 00:00:00')"
      ]
     },
     "execution_count": 12,
     "metadata": {},
     "output_type": "execute_result"
    }
   ],
   "source": [
    "# start date\n",
    "data[\"Date\"][0]"
   ]
  },
  {
   "cell_type": "code",
   "execution_count": 13,
   "id": "f5a0481f",
   "metadata": {},
   "outputs": [
    {
     "data": {
      "text/plain": [
       "Timestamp('2020-07-07 00:00:00')"
      ]
     },
     "execution_count": 13,
     "metadata": {},
     "output_type": "execute_result"
    }
   ],
   "source": [
    "# end date\n",
    "data.iloc[-1][\"Date\"]"
   ]
  },
  {
   "cell_type": "code",
   "execution_count": 14,
   "id": "bf0623ac",
   "metadata": {},
   "outputs": [
    {
     "data": {
      "text/plain": [
       "2020-01-02    169\n",
       "2020-01-08    164\n",
       "2020-01-13    162\n",
       "2020-01-10    162\n",
       "2020-01-09    162\n",
       "             ... \n",
       "2020-01-25      7\n",
       "2020-01-26      7\n",
       "2020-01-27      7\n",
       "2020-01-28      7\n",
       "2019-10-16      4\n",
       "Name: Date, Length: 257, dtype: int64"
      ]
     },
     "execution_count": 14,
     "metadata": {},
     "output_type": "execute_result"
    }
   ],
   "source": [
    "data[\"Date\"].value_counts()"
   ]
  },
  {
   "cell_type": "markdown",
   "id": "72203690",
   "metadata": {},
   "source": [
    "### 2. product"
   ]
  },
  {
   "cell_type": "code",
   "execution_count": 15,
   "id": "293bb828",
   "metadata": {},
   "outputs": [
    {
     "data": {
      "text/plain": [
       "0        Product 1\n",
       "1        Product 1\n",
       "2        Product 1\n",
       "3        Product 1\n",
       "17       Product 1\n",
       "           ...    \n",
       "16818    Product 1\n",
       "16817    Product 1\n",
       "16832    Product 1\n",
       "16824    Product 1\n",
       "16833    Product 1\n",
       "Name: product, Length: 16834, dtype: object"
      ]
     },
     "execution_count": 15,
     "metadata": {},
     "output_type": "execute_result"
    }
   ],
   "source": [
    "data.iloc[:,1]"
   ]
  },
  {
   "cell_type": "code",
   "execution_count": 16,
   "id": "11ab8ba9",
   "metadata": {},
   "outputs": [
    {
     "data": {
      "text/plain": [
       "array(['Product 1'], dtype=object)"
      ]
     },
     "execution_count": 16,
     "metadata": {},
     "output_type": "execute_result"
    }
   ],
   "source": [
    "data[\"product\"].unique()"
   ]
  },
  {
   "cell_type": "code",
   "execution_count": 17,
   "id": "5baa362f",
   "metadata": {},
   "outputs": [
    {
     "data": {
      "text/plain": [
       "Product 1    16834\n",
       "Name: product, dtype: int64"
      ]
     },
     "execution_count": 17,
     "metadata": {},
     "output_type": "execute_result"
    }
   ],
   "source": [
    "data[\"product\"].value_counts()"
   ]
  },
  {
   "cell_type": "code",
   "execution_count": 18,
   "id": "d5fabc3c",
   "metadata": {},
   "outputs": [],
   "source": [
    "data.drop(\"product\", axis=1 , inplace=True)"
   ]
  },
  {
   "cell_type": "code",
   "execution_count": 19,
   "id": "1cfc218b",
   "metadata": {},
   "outputs": [
    {
     "data": {
      "text/html": [
       "<div>\n",
       "<style scoped>\n",
       "    .dataframe tbody tr th:only-of-type {\n",
       "        vertical-align: middle;\n",
       "    }\n",
       "\n",
       "    .dataframe tbody tr th {\n",
       "        vertical-align: top;\n",
       "    }\n",
       "\n",
       "    .dataframe thead th {\n",
       "        text-align: right;\n",
       "    }\n",
       "</style>\n",
       "<table border=\"1\" class=\"dataframe\">\n",
       "  <thead>\n",
       "    <tr style=\"text-align: right;\">\n",
       "      <th></th>\n",
       "      <th>Date</th>\n",
       "      <th>phase</th>\n",
       "      <th>campaign_platform</th>\n",
       "      <th>campaign_type</th>\n",
       "      <th>communication_medium</th>\n",
       "      <th>subchannel</th>\n",
       "      <th>audience_type</th>\n",
       "      <th>creative_type</th>\n",
       "      <th>creative_name</th>\n",
       "      <th>device</th>\n",
       "      <th>age</th>\n",
       "      <th>spends</th>\n",
       "      <th>impressions</th>\n",
       "      <th>clicks</th>\n",
       "      <th>link_clicks</th>\n",
       "    </tr>\n",
       "  </thead>\n",
       "  <tbody>\n",
       "    <tr>\n",
       "      <th>0</th>\n",
       "      <td>2019-10-16</td>\n",
       "      <td>Performance</td>\n",
       "      <td>Google Ads</td>\n",
       "      <td>Search</td>\n",
       "      <td>Search Keywords</td>\n",
       "      <td>Brand</td>\n",
       "      <td>'-</td>\n",
       "      <td>'-</td>\n",
       "      <td>'-</td>\n",
       "      <td>Desktop</td>\n",
       "      <td>18-24</td>\n",
       "      <td>0.0</td>\n",
       "      <td>2</td>\n",
       "      <td>0</td>\n",
       "      <td>0.0</td>\n",
       "    </tr>\n",
       "    <tr>\n",
       "      <th>1</th>\n",
       "      <td>2019-10-16</td>\n",
       "      <td>Performance</td>\n",
       "      <td>Google Ads</td>\n",
       "      <td>Search</td>\n",
       "      <td>Search Keywords</td>\n",
       "      <td>Brand</td>\n",
       "      <td>'-</td>\n",
       "      <td>'-</td>\n",
       "      <td>'-</td>\n",
       "      <td>Desktop</td>\n",
       "      <td>25-34</td>\n",
       "      <td>0.0</td>\n",
       "      <td>5</td>\n",
       "      <td>0</td>\n",
       "      <td>0.0</td>\n",
       "    </tr>\n",
       "  </tbody>\n",
       "</table>\n",
       "</div>"
      ],
      "text/plain": [
       "        Date        phase campaign_platform campaign_type  \\\n",
       "0 2019-10-16  Performance        Google Ads        Search   \n",
       "1 2019-10-16  Performance        Google Ads        Search   \n",
       "\n",
       "  communication_medium subchannel audience_type creative_type creative_name  \\\n",
       "0      Search Keywords      Brand            '-            '-            '-   \n",
       "1      Search Keywords      Brand            '-            '-            '-   \n",
       "\n",
       "    device    age  spends  impressions  clicks  link_clicks  \n",
       "0  Desktop  18-24     0.0            2       0          0.0  \n",
       "1  Desktop  25-34     0.0            5       0          0.0  "
      ]
     },
     "execution_count": 19,
     "metadata": {},
     "output_type": "execute_result"
    }
   ],
   "source": [
    "data.head(2)"
   ]
  },
  {
   "cell_type": "markdown",
   "id": "15e9720a",
   "metadata": {},
   "source": [
    "### 3. Phase"
   ]
  },
  {
   "cell_type": "code",
   "execution_count": 20,
   "id": "13894d37",
   "metadata": {},
   "outputs": [
    {
     "data": {
      "text/plain": [
       "array(['Performance'], dtype=object)"
      ]
     },
     "execution_count": 20,
     "metadata": {},
     "output_type": "execute_result"
    }
   ],
   "source": [
    "data[\"phase\"].unique()"
   ]
  },
  {
   "cell_type": "code",
   "execution_count": 21,
   "id": "19d4e9a4",
   "metadata": {},
   "outputs": [
    {
     "data": {
      "text/plain": [
       "Performance    16834\n",
       "Name: phase, dtype: int64"
      ]
     },
     "execution_count": 21,
     "metadata": {},
     "output_type": "execute_result"
    }
   ],
   "source": [
    "data[\"phase\"].value_counts()"
   ]
  },
  {
   "cell_type": "code",
   "execution_count": 22,
   "id": "49445e66",
   "metadata": {},
   "outputs": [],
   "source": [
    "data.drop(\"phase\", axis=1 , inplace=True)"
   ]
  },
  {
   "cell_type": "code",
   "execution_count": 23,
   "id": "b99958be",
   "metadata": {},
   "outputs": [
    {
     "data": {
      "text/html": [
       "<div>\n",
       "<style scoped>\n",
       "    .dataframe tbody tr th:only-of-type {\n",
       "        vertical-align: middle;\n",
       "    }\n",
       "\n",
       "    .dataframe tbody tr th {\n",
       "        vertical-align: top;\n",
       "    }\n",
       "\n",
       "    .dataframe thead th {\n",
       "        text-align: right;\n",
       "    }\n",
       "</style>\n",
       "<table border=\"1\" class=\"dataframe\">\n",
       "  <thead>\n",
       "    <tr style=\"text-align: right;\">\n",
       "      <th></th>\n",
       "      <th>Date</th>\n",
       "      <th>campaign_platform</th>\n",
       "      <th>campaign_type</th>\n",
       "      <th>communication_medium</th>\n",
       "      <th>subchannel</th>\n",
       "      <th>audience_type</th>\n",
       "      <th>creative_type</th>\n",
       "      <th>creative_name</th>\n",
       "      <th>device</th>\n",
       "      <th>age</th>\n",
       "      <th>spends</th>\n",
       "      <th>impressions</th>\n",
       "      <th>clicks</th>\n",
       "      <th>link_clicks</th>\n",
       "    </tr>\n",
       "  </thead>\n",
       "  <tbody>\n",
       "    <tr>\n",
       "      <th>0</th>\n",
       "      <td>2019-10-16</td>\n",
       "      <td>Google Ads</td>\n",
       "      <td>Search</td>\n",
       "      <td>Search Keywords</td>\n",
       "      <td>Brand</td>\n",
       "      <td>'-</td>\n",
       "      <td>'-</td>\n",
       "      <td>'-</td>\n",
       "      <td>Desktop</td>\n",
       "      <td>18-24</td>\n",
       "      <td>0.0</td>\n",
       "      <td>2</td>\n",
       "      <td>0</td>\n",
       "      <td>0.0</td>\n",
       "    </tr>\n",
       "    <tr>\n",
       "      <th>1</th>\n",
       "      <td>2019-10-16</td>\n",
       "      <td>Google Ads</td>\n",
       "      <td>Search</td>\n",
       "      <td>Search Keywords</td>\n",
       "      <td>Brand</td>\n",
       "      <td>'-</td>\n",
       "      <td>'-</td>\n",
       "      <td>'-</td>\n",
       "      <td>Desktop</td>\n",
       "      <td>25-34</td>\n",
       "      <td>0.0</td>\n",
       "      <td>5</td>\n",
       "      <td>0</td>\n",
       "      <td>0.0</td>\n",
       "    </tr>\n",
       "  </tbody>\n",
       "</table>\n",
       "</div>"
      ],
      "text/plain": [
       "        Date campaign_platform campaign_type communication_medium subchannel  \\\n",
       "0 2019-10-16        Google Ads        Search      Search Keywords      Brand   \n",
       "1 2019-10-16        Google Ads        Search      Search Keywords      Brand   \n",
       "\n",
       "  audience_type creative_type creative_name   device    age  spends  \\\n",
       "0            '-            '-            '-  Desktop  18-24     0.0   \n",
       "1            '-            '-            '-  Desktop  25-34     0.0   \n",
       "\n",
       "   impressions  clicks  link_clicks  \n",
       "0            2       0          0.0  \n",
       "1            5       0          0.0  "
      ]
     },
     "execution_count": 23,
     "metadata": {},
     "output_type": "execute_result"
    }
   ],
   "source": [
    "data.head(2)"
   ]
  },
  {
   "cell_type": "markdown",
   "id": "1a933183",
   "metadata": {},
   "source": [
    "### 4.campaign_platform`"
   ]
  },
  {
   "cell_type": "code",
   "execution_count": 24,
   "id": "a4291709",
   "metadata": {},
   "outputs": [
    {
     "data": {
      "text/plain": [
       "array(['Google Ads', 'Facebook Ads'], dtype=object)"
      ]
     },
     "execution_count": 24,
     "metadata": {},
     "output_type": "execute_result"
    }
   ],
   "source": [
    "data[\"campaign_platform\"].unique()"
   ]
  },
  {
   "cell_type": "code",
   "execution_count": 25,
   "id": "b3ee32b2",
   "metadata": {},
   "outputs": [],
   "source": [
    "platform_count = data[\"campaign_platform\"].value_counts()"
   ]
  },
  {
   "cell_type": "code",
   "execution_count": 26,
   "id": "23f9103e",
   "metadata": {},
   "outputs": [
    {
     "data": {
      "text/plain": [
       "Google Ads      15101\n",
       "Facebook Ads     1733\n",
       "Name: campaign_platform, dtype: int64"
      ]
     },
     "execution_count": 26,
     "metadata": {},
     "output_type": "execute_result"
    }
   ],
   "source": [
    "platform_count"
   ]
  },
  {
   "cell_type": "code",
   "execution_count": 27,
   "id": "b3aed935",
   "metadata": {},
   "outputs": [
    {
     "name": "stderr",
     "output_type": "stream",
     "text": [
      "C:\\Users\\shail\\AppData\\Local\\Programs\\Python\\Python310\\lib\\site-packages\\seaborn\\_decorators.py:36: FutureWarning: Pass the following variable as a keyword arg: x. From version 0.12, the only valid positional argument will be `data`, and passing other arguments without an explicit keyword will result in an error or misinterpretation.\n",
      "  warnings.warn(\n"
     ]
    },
    {
     "data": {
      "text/plain": [
       "<AxesSubplot:xlabel='campaign_platform', ylabel='count'>"
      ]
     },
     "execution_count": 27,
     "metadata": {},
     "output_type": "execute_result"
    },
    {
     "data": {
      "image/png": "[encoded data removed]",
      "text/plain": [
       "<Figure size 432x288 with 1 Axes>"
      ]
     },
     "metadata": {
      "needs_background": "light"
     },
     "output_type": "display_data"
    }
   ],
   "source": [
    "sns.countplot(\"campaign_platform\", data=data)"
   ]
  },
  {
   "cell_type": "code",
   "execution_count": 28,
   "id": "75b6df2e",
   "metadata": {},
   "outputs": [
    {
     "data": {
      "image/png": "[encoded data removed]",
      "text/plain": [
       "<Figure size 864x504 with 1 Axes>"
      ]
     },
     "metadata": {},
     "output_type": "display_data"
    }
   ],
   "source": [
    "platform = data[\"campaign_platform\"].value_counts()\n",
    "plt.figure(figsize=(12,7))\n",
    "plt.pie(platform , labels=platform.index)\n",
    "plt.savefig(\"./images/platform.png\")"
   ]
  },
  {
   "cell_type": "code",
   "execution_count": 29,
   "id": "5daf05d9",
   "metadata": {},
   "outputs": [
    {
     "name": "stdout",
     "output_type": "stream",
     "text": [
      "Percentage of Attraction of google ads : 89.71\n",
      "Percentage of Attraction of facebook ads : 10.29\n"
     ]
    }
   ],
   "source": [
    "print(\"Percentage of Attraction of google ads : {:.2f}\".format(platform_count[\"Google Ads\"] /16834*100 ))\n",
    "print(\"Percentage of Attraction of facebook ads : {:.2f}\".format(platform_count[\"Facebook Ads\"] /16834*100))"
   ]
  },
  {
   "cell_type": "markdown",
   "id": "f662702f",
   "metadata": {},
   "source": [
    "### 5. campaign_type"
   ]
  },
  {
   "cell_type": "code",
   "execution_count": 30,
   "id": "13fcd79c",
   "metadata": {},
   "outputs": [
    {
     "data": {
      "text/plain": [
       "array(['Search', 'Conversions'], dtype=object)"
      ]
     },
     "execution_count": 30,
     "metadata": {},
     "output_type": "execute_result"
    }
   ],
   "source": [
    "data[\"campaign_type\"].unique()"
   ]
  },
  {
   "cell_type": "code",
   "execution_count": 31,
   "id": "82bddbc4",
   "metadata": {},
   "outputs": [
    {
     "data": {
      "text/plain": [
       "Search         15101\n",
       "Conversions     1733\n",
       "Name: campaign_type, dtype: int64"
      ]
     },
     "execution_count": 31,
     "metadata": {},
     "output_type": "execute_result"
    }
   ],
   "source": [
    "data[\"campaign_type\"].value_counts()"
   ]
  },
  {
   "cell_type": "code",
   "execution_count": 32,
   "id": "42774300",
   "metadata": {},
   "outputs": [
    {
     "data": {
      "text/plain": [
       "Search         15101\n",
       "Conversions     1733\n",
       "Name: campaign_type, dtype: int64"
      ]
     },
     "execution_count": 32,
     "metadata": {},
     "output_type": "execute_result"
    }
   ],
   "source": [
    "campaign_type_count = data[\"campaign_type\"].value_counts()\n",
    "campaign_type_count"
   ]
  },
  {
   "cell_type": "code",
   "execution_count": 33,
   "id": "ecbe92ad",
   "metadata": {},
   "outputs": [
    {
     "name": "stderr",
     "output_type": "stream",
     "text": [
      "C:\\Users\\shail\\AppData\\Local\\Programs\\Python\\Python310\\lib\\site-packages\\seaborn\\_decorators.py:36: FutureWarning: Pass the following variable as a keyword arg: x. From version 0.12, the only valid positional argument will be `data`, and passing other arguments without an explicit keyword will result in an error or misinterpretation.\n",
      "  warnings.warn(\n"
     ]
    },
    {
     "data": {
      "text/plain": [
       "<AxesSubplot:xlabel='campaign_type', ylabel='count'>"
      ]
     },
     "execution_count": 33,
     "metadata": {},
     "output_type": "execute_result"
    },
    {
     "data": {
      "image/png": "[encoded data removed]",
      "text/plain": [
       "<Figure size 432x288 with 1 Axes>"
      ]
     },
     "metadata": {
      "needs_background": "light"
     },
     "output_type": "display_data"
    }
   ],
   "source": [
    "sns.countplot(\"campaign_type\" , data=data)"
   ]
  },
  {
   "cell_type": "code",
   "execution_count": 34,
   "id": "32da7264",
   "metadata": {},
   "outputs": [
    {
     "name": "stdout",
     "output_type": "stream",
     "text": [
      "Percentage of Campaign type : 89.71\n",
      "Percentage of Campaign type : 10.29\n"
     ]
    }
   ],
   "source": [
    "print(\"Percentage of Campaign type : {:.2f}\".format(campaign_type_count[\"Search\"] /16834*100 ))\n",
    "print(\"Percentage of Campaign type : {:.2f}\".format(campaign_type_count[\"Conversions\"] /16834*100 ))"
   ]
  },
  {
   "cell_type": "markdown",
   "id": "7ad86825",
   "metadata": {},
   "source": [
    "### 6. communication_medium"
   ]
  },
  {
   "cell_type": "code",
   "execution_count": 35,
   "id": "28ddc93c",
   "metadata": {},
   "outputs": [
    {
     "data": {
      "text/plain": [
       "array(['Search Keywords', 'Creative'], dtype=object)"
      ]
     },
     "execution_count": 35,
     "metadata": {},
     "output_type": "execute_result"
    }
   ],
   "source": [
    "data[\"communication_medium\"].unique()"
   ]
  },
  {
   "cell_type": "code",
   "execution_count": 36,
   "id": "c3231d54",
   "metadata": {},
   "outputs": [
    {
     "data": {
      "text/plain": [
       "Search Keywords    15101\n",
       "Creative            1733\n",
       "Name: communication_medium, dtype: int64"
      ]
     },
     "execution_count": 36,
     "metadata": {},
     "output_type": "execute_result"
    }
   ],
   "source": [
    "com_med_count = data[\"communication_medium\"].value_counts()\n",
    "com_med_count"
   ]
  },
  {
   "cell_type": "code",
   "execution_count": 37,
   "id": "74f13a36",
   "metadata": {},
   "outputs": [
    {
     "name": "stderr",
     "output_type": "stream",
     "text": [
      "C:\\Users\\shail\\AppData\\Local\\Programs\\Python\\Python310\\lib\\site-packages\\seaborn\\_decorators.py:36: FutureWarning: Pass the following variable as a keyword arg: x. From version 0.12, the only valid positional argument will be `data`, and passing other arguments without an explicit keyword will result in an error or misinterpretation.\n",
      "  warnings.warn(\n"
     ]
    },
    {
     "data": {
      "text/plain": [
       "<AxesSubplot:xlabel='communication_medium', ylabel='count'>"
      ]
     },
     "execution_count": 37,
     "metadata": {},
     "output_type": "execute_result"
    },
    {
     "data": {
      "image/png": "[encoded data removed]",
      "text/plain": [
       "<Figure size 432x288 with 1 Axes>"
      ]
     },
     "metadata": {
      "needs_background": "light"
     },
     "output_type": "display_data"
    }
   ],
   "source": [
    "sns.countplot(\"communication_medium\", data=data)"
   ]
  },
  {
   "cell_type": "code",
   "execution_count": 38,
   "id": "fc6d834b",
   "metadata": {},
   "outputs": [
    {
     "data": {
      "text/plain": [
       "([<matplotlib.patches.Wedge at 0x2206ecfe6b0>,\n",
       "  <matplotlib.patches.Wedge at 0x2206ecfeb90>],\n",
       " [Text(-1.0429709749807132, 0.3495876790560283, 'Search Keywords'),\n",
       "  Text(1.0429709913460925, -0.34958763023103256, 'Creative')])"
      ]
     },
     "execution_count": 38,
     "metadata": {},
     "output_type": "execute_result"
    },
    {
     "data": {
      "image/png": "[encoded data removed]",
      "text/plain": [
       "<Figure size 720x432 with 1 Axes>"
      ]
     },
     "metadata": {},
     "output_type": "display_data"
    }
   ],
   "source": [
    "med = data[\"communication_medium\"].value_counts()\n",
    "plt.figure(figsize=(10 , 6))\n",
    "plt.pie(med , labels = med.index)"
   ]
  },
  {
   "cell_type": "code",
   "execution_count": 39,
   "id": "f38956be",
   "metadata": {},
   "outputs": [
    {
     "name": "stdout",
     "output_type": "stream",
     "text": [
      "Percentage of communication medium : 89.71\n",
      "Percentage of communication medium : 10.29\n"
     ]
    }
   ],
   "source": [
    "print(\"Percentage of communication medium : {:.2f}\".format(com_med_count[\"Search Keywords\"] / 16834*100 ))\n",
    "print(\"Percentage of communication medium : {:.2f}\".format(com_med_count[\"Creative\"] / 16834*100))"
   ]
  },
  {
   "cell_type": "code",
   "execution_count": 40,
   "id": "ac4376e2",
   "metadata": {},
   "outputs": [
    {
     "data": {
      "text/plain": [
       "Search Keywords    15101\n",
       "Name: communication_medium, dtype: int64"
      ]
     },
     "execution_count": 40,
     "metadata": {},
     "output_type": "execute_result"
    }
   ],
   "source": [
    "data[data[\"campaign_platform\"] == \"Google Ads\"].iloc[:,3].value_counts()"
   ]
  },
  {
   "cell_type": "code",
   "execution_count": 41,
   "id": "47169089",
   "metadata": {},
   "outputs": [
    {
     "data": {
      "text/plain": [
       "Creative    1733\n",
       "Name: communication_medium, dtype: int64"
      ]
     },
     "execution_count": 41,
     "metadata": {},
     "output_type": "execute_result"
    }
   ],
   "source": [
    "data[data[\"campaign_platform\"] == \"Facebook Ads\"].iloc[:,3].value_counts()"
   ]
  },
  {
   "cell_type": "code",
   "execution_count": 42,
   "id": "d0283a42",
   "metadata": {},
   "outputs": [
    {
     "data": {
      "text/plain": [
       "Google Ads      15101\n",
       "Facebook Ads     1733\n",
       "Name: campaign_platform, dtype: int64"
      ]
     },
     "execution_count": 42,
     "metadata": {},
     "output_type": "execute_result"
    }
   ],
   "source": [
    "data[\"campaign_platform\"].value_counts()"
   ]
  },
  {
   "cell_type": "code",
   "execution_count": 43,
   "id": "cda14b2b",
   "metadata": {},
   "outputs": [
    {
     "data": {
      "text/plain": [
       "Search Keywords    15101\n",
       "Name: communication_medium, dtype: int64"
      ]
     },
     "execution_count": 43,
     "metadata": {},
     "output_type": "execute_result"
    }
   ],
   "source": [
    "data[data[\"campaign_platform\"] == \"Google Ads\"].iloc[:,3].value_counts()"
   ]
  },
  {
   "cell_type": "code",
   "execution_count": 44,
   "id": "0c411580",
   "metadata": {},
   "outputs": [
    {
     "data": {
      "text/plain": [
       "Creative    1733\n",
       "Name: communication_medium, dtype: int64"
      ]
     },
     "execution_count": 44,
     "metadata": {},
     "output_type": "execute_result"
    }
   ],
   "source": [
    "data[data[\"campaign_platform\"] == \"Facebook Ads\"].iloc[:,3].value_counts()"
   ]
  },
  {
   "cell_type": "markdown",
   "id": "04432cf3",
   "metadata": {},
   "source": [
    " if campaign_platform is  Google Ads  , then campaign type is search \n",
    " \n",
    " if campaign_platform is Facebook Ads , then campaign type is conversion"
   ]
  },
  {
   "cell_type": "code",
   "execution_count": 45,
   "id": "ad96fe94",
   "metadata": {},
   "outputs": [],
   "source": [
    "# drop this colums due to similarity\n",
    "data.drop(\"campaign_type\" , axis=1 , inplace = True)"
   ]
  },
  {
   "cell_type": "code",
   "execution_count": 46,
   "id": "7c016ee1",
   "metadata": {},
   "outputs": [
    {
     "data": {
      "text/html": [
       "<div>\n",
       "<style scoped>\n",
       "    .dataframe tbody tr th:only-of-type {\n",
       "        vertical-align: middle;\n",
       "    }\n",
       "\n",
       "    .dataframe tbody tr th {\n",
       "        vertical-align: top;\n",
       "    }\n",
       "\n",
       "    .dataframe thead th {\n",
       "        text-align: right;\n",
       "    }\n",
       "</style>\n",
       "<table border=\"1\" class=\"dataframe\">\n",
       "  <thead>\n",
       "    <tr style=\"text-align: right;\">\n",
       "      <th></th>\n",
       "      <th>Date</th>\n",
       "      <th>campaign_platform</th>\n",
       "      <th>communication_medium</th>\n",
       "      <th>subchannel</th>\n",
       "      <th>audience_type</th>\n",
       "      <th>creative_type</th>\n",
       "      <th>creative_name</th>\n",
       "      <th>device</th>\n",
       "      <th>age</th>\n",
       "      <th>spends</th>\n",
       "      <th>impressions</th>\n",
       "      <th>clicks</th>\n",
       "      <th>link_clicks</th>\n",
       "    </tr>\n",
       "  </thead>\n",
       "  <tbody>\n",
       "    <tr>\n",
       "      <th>0</th>\n",
       "      <td>2019-10-16</td>\n",
       "      <td>Google Ads</td>\n",
       "      <td>Search Keywords</td>\n",
       "      <td>Brand</td>\n",
       "      <td>'-</td>\n",
       "      <td>'-</td>\n",
       "      <td>'-</td>\n",
       "      <td>Desktop</td>\n",
       "      <td>18-24</td>\n",
       "      <td>0.0</td>\n",
       "      <td>2</td>\n",
       "      <td>0</td>\n",
       "      <td>0.0</td>\n",
       "    </tr>\n",
       "    <tr>\n",
       "      <th>1</th>\n",
       "      <td>2019-10-16</td>\n",
       "      <td>Google Ads</td>\n",
       "      <td>Search Keywords</td>\n",
       "      <td>Brand</td>\n",
       "      <td>'-</td>\n",
       "      <td>'-</td>\n",
       "      <td>'-</td>\n",
       "      <td>Desktop</td>\n",
       "      <td>25-34</td>\n",
       "      <td>0.0</td>\n",
       "      <td>5</td>\n",
       "      <td>0</td>\n",
       "      <td>0.0</td>\n",
       "    </tr>\n",
       "  </tbody>\n",
       "</table>\n",
       "</div>"
      ],
      "text/plain": [
       "        Date campaign_platform communication_medium subchannel audience_type  \\\n",
       "0 2019-10-16        Google Ads      Search Keywords      Brand            '-   \n",
       "1 2019-10-16        Google Ads      Search Keywords      Brand            '-   \n",
       "\n",
       "  creative_type creative_name   device    age  spends  impressions  clicks  \\\n",
       "0            '-            '-  Desktop  18-24     0.0            2       0   \n",
       "1            '-            '-  Desktop  25-34     0.0            5       0   \n",
       "\n",
       "   link_clicks  \n",
       "0          0.0  \n",
       "1          0.0  "
      ]
     },
     "execution_count": 46,
     "metadata": {},
     "output_type": "execute_result"
    }
   ],
   "source": [
    "data.head(2)"
   ]
  },
  {
   "cell_type": "code",
   "execution_count": 47,
   "id": "37426e51",
   "metadata": {},
   "outputs": [
    {
     "data": {
      "text/plain": [
       "Search Keywords    15101\n",
       "Name: communication_medium, dtype: int64"
      ]
     },
     "execution_count": 47,
     "metadata": {},
     "output_type": "execute_result"
    }
   ],
   "source": [
    "data[data[\"campaign_platform\"] == \"Google Ads\"].iloc[:,2].value_counts()"
   ]
  },
  {
   "cell_type": "code",
   "execution_count": 48,
   "id": "f1cb4c56",
   "metadata": {},
   "outputs": [
    {
     "data": {
      "text/plain": [
       "Creative    1733\n",
       "Name: communication_medium, dtype: int64"
      ]
     },
     "execution_count": 48,
     "metadata": {},
     "output_type": "execute_result"
    }
   ],
   "source": [
    "data[data[\"campaign_platform\"] == \"Facebook Ads\"].iloc[:,2].value_counts()"
   ]
  },
  {
   "cell_type": "markdown",
   "id": "5a4f980d",
   "metadata": {},
   "source": [
    " if campaign_platform is  Google Ads  , then campaign type is search \n",
    " \n",
    " if campaign_platform is Facebook Ads , then campaign type is conversion"
   ]
  },
  {
   "cell_type": "code",
   "execution_count": 49,
   "id": "e9242015",
   "metadata": {},
   "outputs": [],
   "source": [
    "# drop this column due to similarity\n",
    "data.drop(\"communication_medium\" , axis=1 , inplace = True)"
   ]
  },
  {
   "cell_type": "code",
   "execution_count": 50,
   "id": "55a7f8e3",
   "metadata": {},
   "outputs": [
    {
     "data": {
      "text/html": [
       "<div>\n",
       "<style scoped>\n",
       "    .dataframe tbody tr th:only-of-type {\n",
       "        vertical-align: middle;\n",
       "    }\n",
       "\n",
       "    .dataframe tbody tr th {\n",
       "        vertical-align: top;\n",
       "    }\n",
       "\n",
       "    .dataframe thead th {\n",
       "        text-align: right;\n",
       "    }\n",
       "</style>\n",
       "<table border=\"1\" class=\"dataframe\">\n",
       "  <thead>\n",
       "    <tr style=\"text-align: right;\">\n",
       "      <th></th>\n",
       "      <th>Date</th>\n",
       "      <th>campaign_platform</th>\n",
       "      <th>subchannel</th>\n",
       "      <th>audience_type</th>\n",
       "      <th>creative_type</th>\n",
       "      <th>creative_name</th>\n",
       "      <th>device</th>\n",
       "      <th>age</th>\n",
       "      <th>spends</th>\n",
       "      <th>impressions</th>\n",
       "      <th>clicks</th>\n",
       "      <th>link_clicks</th>\n",
       "    </tr>\n",
       "  </thead>\n",
       "  <tbody>\n",
       "    <tr>\n",
       "      <th>0</th>\n",
       "      <td>2019-10-16</td>\n",
       "      <td>Google Ads</td>\n",
       "      <td>Brand</td>\n",
       "      <td>'-</td>\n",
       "      <td>'-</td>\n",
       "      <td>'-</td>\n",
       "      <td>Desktop</td>\n",
       "      <td>18-24</td>\n",
       "      <td>0.0</td>\n",
       "      <td>2</td>\n",
       "      <td>0</td>\n",
       "      <td>0.0</td>\n",
       "    </tr>\n",
       "    <tr>\n",
       "      <th>1</th>\n",
       "      <td>2019-10-16</td>\n",
       "      <td>Google Ads</td>\n",
       "      <td>Brand</td>\n",
       "      <td>'-</td>\n",
       "      <td>'-</td>\n",
       "      <td>'-</td>\n",
       "      <td>Desktop</td>\n",
       "      <td>25-34</td>\n",
       "      <td>0.0</td>\n",
       "      <td>5</td>\n",
       "      <td>0</td>\n",
       "      <td>0.0</td>\n",
       "    </tr>\n",
       "  </tbody>\n",
       "</table>\n",
       "</div>"
      ],
      "text/plain": [
       "        Date campaign_platform subchannel audience_type creative_type  \\\n",
       "0 2019-10-16        Google Ads      Brand            '-            '-   \n",
       "1 2019-10-16        Google Ads      Brand            '-            '-   \n",
       "\n",
       "  creative_name   device    age  spends  impressions  clicks  link_clicks  \n",
       "0            '-  Desktop  18-24     0.0            2       0          0.0  \n",
       "1            '-  Desktop  25-34     0.0            5       0          0.0  "
      ]
     },
     "execution_count": 50,
     "metadata": {},
     "output_type": "execute_result"
    }
   ],
   "source": [
    "data.head(2)"
   ]
  },
  {
   "cell_type": "markdown",
   "id": "9f82b42e",
   "metadata": {},
   "source": [
    "### 7. Sub channel"
   ]
  },
  {
   "cell_type": "code",
   "execution_count": 51,
   "id": "31b9e273",
   "metadata": {},
   "outputs": [
    {
     "data": {
      "text/plain": [
       "array(['Brand', 'Generic', 'Competitor', 'Facebook Ads'], dtype=object)"
      ]
     },
     "execution_count": 51,
     "metadata": {},
     "output_type": "execute_result"
    }
   ],
   "source": [
    "data[\"subchannel\"].unique()"
   ]
  },
  {
   "cell_type": "code",
   "execution_count": 52,
   "id": "2199dfae",
   "metadata": {},
   "outputs": [
    {
     "data": {
      "text/plain": [
       "Brand           7853\n",
       "Generic         4544\n",
       "Competitor      2704\n",
       "Facebook Ads    1733\n",
       "Name: subchannel, dtype: int64"
      ]
     },
     "execution_count": 52,
     "metadata": {},
     "output_type": "execute_result"
    }
   ],
   "source": [
    "data[\"subchannel\"].value_counts()"
   ]
  },
  {
   "cell_type": "code",
   "execution_count": 53,
   "id": "71ea9720",
   "metadata": {},
   "outputs": [
    {
     "name": "stderr",
     "output_type": "stream",
     "text": [
      "C:\\Users\\shail\\AppData\\Local\\Programs\\Python\\Python310\\lib\\site-packages\\seaborn\\_decorators.py:36: FutureWarning: Pass the following variable as a keyword arg: x. From version 0.12, the only valid positional argument will be `data`, and passing other arguments without an explicit keyword will result in an error or misinterpretation.\n",
      "  warnings.warn(\n"
     ]
    },
    {
     "data": {
      "text/plain": [
       "<AxesSubplot:xlabel='subchannel', ylabel='count'>"
      ]
     },
     "execution_count": 53,
     "metadata": {},
     "output_type": "execute_result"
    },
    {
     "data": {
      "image/png": "[encoded data removed]",
      "text/plain": [
       "<Figure size 432x288 with 1 Axes>"
      ]
     },
     "metadata": {
      "needs_background": "light"
     },
     "output_type": "display_data"
    }
   ],
   "source": [
    "sns.countplot(\"subchannel\", data=data)"
   ]
  },
  {
   "cell_type": "code",
   "execution_count": 54,
   "id": "1afe9b86",
   "metadata": {},
   "outputs": [
    {
     "data": {
      "text/plain": [
       "15101"
      ]
     },
     "execution_count": 54,
     "metadata": {},
     "output_type": "execute_result"
    }
   ],
   "source": [
    "7853 + 4544 + 2704"
   ]
  },
  {
   "cell_type": "code",
   "execution_count": 55,
   "id": "ae650cec",
   "metadata": {},
   "outputs": [
    {
     "name": "stdout",
     "output_type": "stream",
     "text": [
      "Google ads -- subchannel -- Brand : 52.00 \n",
      "Google ads -- subchannel -- Generic : 30.09 \n",
      "Google ads -- subchannel -- Competitor : 17.91 \n"
     ]
    }
   ],
   "source": [
    "print(\"Google ads -- subchannel -- Brand : {:.2f} \".format((7853 /15101)*100))\n",
    "print(\"Google ads -- subchannel -- Generic : {:.2f} \".format((4544 /15101)*100))\n",
    "print(\"Google ads -- subchannel -- Competitor : {:.2f} \".format((2704 /15101)*100))"
   ]
  },
  {
   "cell_type": "code",
   "execution_count": 56,
   "id": "22348ce5",
   "metadata": {},
   "outputs": [
    {
     "data": {
      "image/png": "[encoded data removed]",
      "text/plain": [
       "<Figure size 720x432 with 1 Axes>"
      ]
     },
     "metadata": {},
     "output_type": "display_data"
    }
   ],
   "source": [
    "sub_channel = data[\"subchannel\"].value_counts()\n",
    "plt.figure(figsize=(10 , 6))\n",
    "plt.pie(sub_channel , labels=sub_channel.index)\n",
    "plt.savefig(\"./images/subchannel.png\")"
   ]
  },
  {
   "cell_type": "markdown",
   "id": "424622cc",
   "metadata": {},
   "source": [
    "### 8. Audience type"
   ]
  },
  {
   "cell_type": "code",
   "execution_count": 57,
   "id": "37c20a61",
   "metadata": {},
   "outputs": [
    {
     "data": {
      "text/plain": [
       "array([\"'-\", 'Audience 2', 'Audience 3', 'Audience 1'], dtype=object)"
      ]
     },
     "execution_count": 57,
     "metadata": {},
     "output_type": "execute_result"
    }
   ],
   "source": [
    "data[\"audience_type\"].unique()"
   ]
  },
  {
   "cell_type": "code",
   "execution_count": 58,
   "id": "85f3eb21",
   "metadata": {},
   "outputs": [
    {
     "data": {
      "text/plain": [
       "'-            15101\n",
       "Audience 1      813\n",
       "Audience 2      738\n",
       "Audience 3      182\n",
       "Name: audience_type, dtype: int64"
      ]
     },
     "execution_count": 58,
     "metadata": {},
     "output_type": "execute_result"
    }
   ],
   "source": [
    "data[\"audience_type\"].value_counts()"
   ]
  },
  {
   "cell_type": "code",
   "execution_count": 59,
   "id": "10232dc3",
   "metadata": {},
   "outputs": [
    {
     "data": {
      "image/png": "[encoded data removed]",
      "text/plain": [
       "<Figure size 432x288 with 1 Axes>"
      ]
     },
     "metadata": {
      "needs_background": "light"
     },
     "output_type": "display_data"
    }
   ],
   "source": [
    "sns.countplot(x = \"audience_type\" ,data=data[data[\"campaign_platform\"] != \"Google Ads\"])\n",
    "plt.title(\"Facebook Audience\" , fontsize = 20)\n",
    "plt.savefig(\"./images/fb_audience.png\")"
   ]
  },
  {
   "cell_type": "code",
   "execution_count": 60,
   "id": "2b7cc564",
   "metadata": {},
   "outputs": [
    {
     "data": {
      "image/png": "[encoded data removed]",
      "text/plain": [
       "<Figure size 432x288 with 1 Axes>"
      ]
     },
     "metadata": {
      "needs_background": "light"
     },
     "output_type": "display_data"
    }
   ],
   "source": [
    "sns.countplot(x = \"audience_type\" ,data=data[data[\"campaign_platform\"] == \"Google Ads\"])\n",
    "plt.title(\"Facebook Audience\" , fontsize = 20)\n",
    "plt.savefig(\"./images/google_audience.png\")"
   ]
  },
  {
   "cell_type": "markdown",
   "id": "3a2a816d",
   "metadata": {},
   "source": [
    "### 9. creative_type\t"
   ]
  },
  {
   "cell_type": "code",
   "execution_count": 61,
   "id": "6797df97",
   "metadata": {},
   "outputs": [
    {
     "data": {
      "text/plain": [
       "array([\"'-\", 'Image', 'Carousal'], dtype=object)"
      ]
     },
     "execution_count": 61,
     "metadata": {},
     "output_type": "execute_result"
    }
   ],
   "source": [
    "data[\"creative_type\"].unique()"
   ]
  },
  {
   "cell_type": "code",
   "execution_count": 62,
   "id": "2eeeca93",
   "metadata": {},
   "outputs": [
    {
     "data": {
      "text/plain": [
       "'-          15101\n",
       "Image        1130\n",
       "Carousal      603\n",
       "Name: creative_type, dtype: int64"
      ]
     },
     "execution_count": 62,
     "metadata": {},
     "output_type": "execute_result"
    }
   ],
   "source": [
    "data[\"creative_type\"].value_counts()"
   ]
  },
  {
   "cell_type": "code",
   "execution_count": 63,
   "id": "68988766",
   "metadata": {},
   "outputs": [],
   "source": [
    "fb = data[data[\"campaign_platform\"] != \"Google Ads\"]"
   ]
  },
  {
   "cell_type": "code",
   "execution_count": 64,
   "id": "15d99a8d",
   "metadata": {},
   "outputs": [
    {
     "data": {
      "text/html": [
       "<div>\n",
       "<style scoped>\n",
       "    .dataframe tbody tr th:only-of-type {\n",
       "        vertical-align: middle;\n",
       "    }\n",
       "\n",
       "    .dataframe tbody tr th {\n",
       "        vertical-align: top;\n",
       "    }\n",
       "\n",
       "    .dataframe thead th {\n",
       "        text-align: right;\n",
       "    }\n",
       "</style>\n",
       "<table border=\"1\" class=\"dataframe\">\n",
       "  <thead>\n",
       "    <tr style=\"text-align: right;\">\n",
       "      <th></th>\n",
       "      <th>Date</th>\n",
       "      <th>campaign_platform</th>\n",
       "      <th>subchannel</th>\n",
       "      <th>audience_type</th>\n",
       "      <th>creative_type</th>\n",
       "      <th>creative_name</th>\n",
       "      <th>device</th>\n",
       "      <th>age</th>\n",
       "      <th>spends</th>\n",
       "      <th>impressions</th>\n",
       "      <th>clicks</th>\n",
       "      <th>link_clicks</th>\n",
       "    </tr>\n",
       "  </thead>\n",
       "  <tbody>\n",
       "    <tr>\n",
       "      <th>2029</th>\n",
       "      <td>2019-12-16</td>\n",
       "      <td>Facebook Ads</td>\n",
       "      <td>Facebook Ads</td>\n",
       "      <td>Audience 2</td>\n",
       "      <td>Image</td>\n",
       "      <td>Click</td>\n",
       "      <td>device</td>\n",
       "      <td>55-64</td>\n",
       "      <td>0.32</td>\n",
       "      <td>7</td>\n",
       "      <td>0</td>\n",
       "      <td>NaN</td>\n",
       "    </tr>\n",
       "    <tr>\n",
       "      <th>2028</th>\n",
       "      <td>2019-12-16</td>\n",
       "      <td>Facebook Ads</td>\n",
       "      <td>Facebook Ads</td>\n",
       "      <td>Audience 2</td>\n",
       "      <td>Image</td>\n",
       "      <td>Click</td>\n",
       "      <td>device</td>\n",
       "      <td>45-54</td>\n",
       "      <td>8.53</td>\n",
       "      <td>77</td>\n",
       "      <td>3</td>\n",
       "      <td>1.0</td>\n",
       "    </tr>\n",
       "    <tr>\n",
       "      <th>2027</th>\n",
       "      <td>2019-12-16</td>\n",
       "      <td>Facebook Ads</td>\n",
       "      <td>Facebook Ads</td>\n",
       "      <td>Audience 2</td>\n",
       "      <td>Image</td>\n",
       "      <td>Click</td>\n",
       "      <td>device</td>\n",
       "      <td>35-44</td>\n",
       "      <td>18.50</td>\n",
       "      <td>111</td>\n",
       "      <td>9</td>\n",
       "      <td>3.0</td>\n",
       "    </tr>\n",
       "    <tr>\n",
       "      <th>2026</th>\n",
       "      <td>2019-12-16</td>\n",
       "      <td>Facebook Ads</td>\n",
       "      <td>Facebook Ads</td>\n",
       "      <td>Audience 2</td>\n",
       "      <td>Image</td>\n",
       "      <td>Click</td>\n",
       "      <td>device</td>\n",
       "      <td>25-34</td>\n",
       "      <td>85.66</td>\n",
       "      <td>397</td>\n",
       "      <td>17</td>\n",
       "      <td>9.0</td>\n",
       "    </tr>\n",
       "    <tr>\n",
       "      <th>2025</th>\n",
       "      <td>2019-12-16</td>\n",
       "      <td>Facebook Ads</td>\n",
       "      <td>Facebook Ads</td>\n",
       "      <td>Audience 2</td>\n",
       "      <td>Carousal</td>\n",
       "      <td>Carousal</td>\n",
       "      <td>device</td>\n",
       "      <td>45-54</td>\n",
       "      <td>1.13</td>\n",
       "      <td>15</td>\n",
       "      <td>0</td>\n",
       "      <td>NaN</td>\n",
       "    </tr>\n",
       "  </tbody>\n",
       "</table>\n",
       "</div>"
      ],
      "text/plain": [
       "           Date campaign_platform    subchannel audience_type creative_type  \\\n",
       "2029 2019-12-16      Facebook Ads  Facebook Ads    Audience 2         Image   \n",
       "2028 2019-12-16      Facebook Ads  Facebook Ads    Audience 2         Image   \n",
       "2027 2019-12-16      Facebook Ads  Facebook Ads    Audience 2         Image   \n",
       "2026 2019-12-16      Facebook Ads  Facebook Ads    Audience 2         Image   \n",
       "2025 2019-12-16      Facebook Ads  Facebook Ads    Audience 2      Carousal   \n",
       "\n",
       "     creative_name  device    age  spends  impressions  clicks  link_clicks  \n",
       "2029         Click  device  55-64    0.32            7       0          NaN  \n",
       "2028         Click  device  45-54    8.53           77       3          1.0  \n",
       "2027         Click  device  35-44   18.50          111       9          3.0  \n",
       "2026         Click  device  25-34   85.66          397      17          9.0  \n",
       "2025      Carousal  device  45-54    1.13           15       0          NaN  "
      ]
     },
     "execution_count": 64,
     "metadata": {},
     "output_type": "execute_result"
    }
   ],
   "source": [
    "fb.head()"
   ]
  },
  {
   "cell_type": "code",
   "execution_count": 65,
   "id": "f10b6aca",
   "metadata": {},
   "outputs": [
    {
     "data": {
      "text/plain": [
       "array(['Image', 'Carousal'], dtype=object)"
      ]
     },
     "execution_count": 65,
     "metadata": {},
     "output_type": "execute_result"
    }
   ],
   "source": [
    "fb[\"creative_type\"].unique()"
   ]
  },
  {
   "cell_type": "code",
   "execution_count": 66,
   "id": "05c0b448",
   "metadata": {},
   "outputs": [
    {
     "data": {
      "text/plain": [
       "Image       1130\n",
       "Carousal     603\n",
       "Name: creative_type, dtype: int64"
      ]
     },
     "execution_count": 66,
     "metadata": {},
     "output_type": "execute_result"
    }
   ],
   "source": [
    "fb[\"creative_type\"].value_counts()"
   ]
  },
  {
   "cell_type": "code",
   "execution_count": 67,
   "id": "6754e302",
   "metadata": {},
   "outputs": [
    {
     "name": "stderr",
     "output_type": "stream",
     "text": [
      "C:\\Users\\shail\\AppData\\Local\\Programs\\Python\\Python310\\lib\\site-packages\\seaborn\\_decorators.py:36: FutureWarning: Pass the following variable as a keyword arg: x. From version 0.12, the only valid positional argument will be `data`, and passing other arguments without an explicit keyword will result in an error or misinterpretation.\n",
      "  warnings.warn(\n"
     ]
    },
    {
     "data": {
      "text/plain": [
       "<AxesSubplot:xlabel='creative_type', ylabel='count'>"
      ]
     },
     "execution_count": 67,
     "metadata": {},
     "output_type": "execute_result"
    },
    {
     "data": {
      "image/png": "[encoded data removed]",
      "text/plain": [
       "<Figure size 432x288 with 1 Axes>"
      ]
     },
     "metadata": {
      "needs_background": "light"
     },
     "output_type": "display_data"
    }
   ],
   "source": [
    "sns.countplot(\"creative_type\", data = fb)"
   ]
  },
  {
   "cell_type": "code",
   "execution_count": 68,
   "id": "515cb286",
   "metadata": {},
   "outputs": [
    {
     "name": "stdout",
     "output_type": "stream",
     "text": [
      "Facebook ads -- creative type -- Image 65.20 %\n",
      "Facebook ads -- creative type -- Carousal 34.80 %\n"
     ]
    }
   ],
   "source": [
    "print(\"Facebook ads -- creative type -- Image {:.2f} %\".format((1130 /1733)*100))\n",
    "print(\"Facebook ads -- creative type -- Carousal {:.2f} %\".format((603 /1733)*100))"
   ]
  },
  {
   "cell_type": "markdown",
   "id": "7d8f8e87",
   "metadata": {},
   "source": [
    "### 10. creative names"
   ]
  },
  {
   "cell_type": "code",
   "execution_count": 69,
   "id": "12fce36a",
   "metadata": {},
   "outputs": [
    {
     "data": {
      "text/plain": [
       "array([\"'-\", 'Click', 'Carousal', 'Girl'], dtype=object)"
      ]
     },
     "execution_count": 69,
     "metadata": {},
     "output_type": "execute_result"
    }
   ],
   "source": [
    "data[\"creative_name\"].unique()"
   ]
  },
  {
   "cell_type": "code",
   "execution_count": 70,
   "id": "91a227b5",
   "metadata": {},
   "outputs": [
    {
     "data": {
      "text/plain": [
       "'-          15101\n",
       "Click         644\n",
       "Carousal      603\n",
       "Girl          486\n",
       "Name: creative_name, dtype: int64"
      ]
     },
     "execution_count": 70,
     "metadata": {},
     "output_type": "execute_result"
    }
   ],
   "source": [
    "data[\"creative_name\"].value_counts()"
   ]
  },
  {
   "cell_type": "code",
   "execution_count": 71,
   "id": "fc1ad16f",
   "metadata": {},
   "outputs": [
    {
     "data": {
      "text/plain": [
       "Click       644\n",
       "Carousal    603\n",
       "Girl        486\n",
       "Name: creative_name, dtype: int64"
      ]
     },
     "execution_count": 71,
     "metadata": {},
     "output_type": "execute_result"
    }
   ],
   "source": [
    "fb[\"creative_name\"].value_counts()"
   ]
  },
  {
   "cell_type": "code",
   "execution_count": 72,
   "id": "b558cf18",
   "metadata": {},
   "outputs": [
    {
     "name": "stderr",
     "output_type": "stream",
     "text": [
      "C:\\Users\\shail\\AppData\\Local\\Programs\\Python\\Python310\\lib\\site-packages\\seaborn\\_decorators.py:36: FutureWarning: Pass the following variable as a keyword arg: x. From version 0.12, the only valid positional argument will be `data`, and passing other arguments without an explicit keyword will result in an error or misinterpretation.\n",
      "  warnings.warn(\n"
     ]
    },
    {
     "data": {
      "text/plain": [
       "<AxesSubplot:xlabel='creative_name', ylabel='count'>"
      ]
     },
     "execution_count": 72,
     "metadata": {},
     "output_type": "execute_result"
    },
    {
     "data": {
      "image/png": "[encoded data removed]",
      "text/plain": [
       "<Figure size 432x288 with 1 Axes>"
      ]
     },
     "metadata": {
      "needs_background": "light"
     },
     "output_type": "display_data"
    }
   ],
   "source": [
    "sns.countplot(\"creative_name\" , data= fb)"
   ]
  },
  {
   "cell_type": "code",
   "execution_count": 73,
   "id": "f6bf1959",
   "metadata": {},
   "outputs": [
    {
     "data": {
      "text/plain": [
       "1733"
      ]
     },
     "execution_count": 73,
     "metadata": {},
     "output_type": "execute_result"
    }
   ],
   "source": [
    "fb[\"creative_name\"].value_counts().sum()"
   ]
  },
  {
   "cell_type": "code",
   "execution_count": 74,
   "id": "ad31657f",
   "metadata": {},
   "outputs": [
    {
     "name": "stdout",
     "output_type": "stream",
     "text": [
      "Facebook Ads -- creative names -- Click 37.16 % \n",
      "Facebook Ads -- creative names --  Carousal 34.80 % \n",
      "Facebook Ads -- creative names -- Girl 28.04 % \n"
     ]
    }
   ],
   "source": [
    "print(\"Facebook Ads -- creative names -- Click {:.2f} % \".format((644 /1733)*100))\n",
    "print(\"Facebook Ads -- creative names --  Carousal {:.2f} % \".format((603 /1733)*100))\n",
    "print(\"Facebook Ads -- creative names -- Girl {:.2f} % \".format((486 /1733)*100))"
   ]
  },
  {
   "cell_type": "markdown",
   "id": "94839171",
   "metadata": {},
   "source": [
    "### 11. Devices"
   ]
  },
  {
   "cell_type": "code",
   "execution_count": 75,
   "id": "4a960eb9",
   "metadata": {},
   "outputs": [
    {
     "data": {
      "text/plain": [
       "array(['Desktop', 'Mobile', 'Tablet', 'device'], dtype=object)"
      ]
     },
     "execution_count": 75,
     "metadata": {},
     "output_type": "execute_result"
    }
   ],
   "source": [
    "data[\"device\"].unique()"
   ]
  },
  {
   "cell_type": "code",
   "execution_count": 76,
   "id": "80b886cb",
   "metadata": {},
   "outputs": [
    {
     "data": {
      "text/plain": [
       "Mobile     7357\n",
       "Desktop    6318\n",
       "device     1733\n",
       "Tablet     1426\n",
       "Name: device, dtype: int64"
      ]
     },
     "execution_count": 76,
     "metadata": {},
     "output_type": "execute_result"
    }
   ],
   "source": [
    "data[\"device\"].value_counts()"
   ]
  },
  {
   "cell_type": "code",
   "execution_count": 77,
   "id": "07d9ddcc",
   "metadata": {},
   "outputs": [
    {
     "data": {
      "text/plain": [
       "device    1733\n",
       "Name: device, dtype: int64"
      ]
     },
     "execution_count": 77,
     "metadata": {},
     "output_type": "execute_result"
    }
   ],
   "source": [
    "fb[\"device\"].value_counts()"
   ]
  },
  {
   "cell_type": "code",
   "execution_count": 78,
   "id": "2bd48098",
   "metadata": {},
   "outputs": [
    {
     "name": "stderr",
     "output_type": "stream",
     "text": [
      "C:\\Users\\shail\\AppData\\Local\\Programs\\Python\\Python310\\lib\\site-packages\\seaborn\\_decorators.py:36: FutureWarning: Pass the following variable as a keyword arg: x. From version 0.12, the only valid positional argument will be `data`, and passing other arguments without an explicit keyword will result in an error or misinterpretation.\n",
      "  warnings.warn(\n"
     ]
    },
    {
     "data": {
      "image/png": "[encoded data removed]",
      "text/plain": [
       "<Figure size 432x288 with 1 Axes>"
      ]
     },
     "metadata": {
      "needs_background": "light"
     },
     "output_type": "display_data"
    }
   ],
   "source": [
    "sns.countplot(\"device\" , data=data)\n",
    "plt.savefig(\"./images/devices.png\")"
   ]
  },
  {
   "cell_type": "code",
   "execution_count": 79,
   "id": "aca03831",
   "metadata": {},
   "outputs": [
    {
     "name": "stderr",
     "output_type": "stream",
     "text": [
      "C:\\Users\\shail\\AppData\\Local\\Programs\\Python\\Python310\\lib\\site-packages\\seaborn\\_decorators.py:36: FutureWarning: Pass the following variable as a keyword arg: x. From version 0.12, the only valid positional argument will be `data`, and passing other arguments without an explicit keyword will result in an error or misinterpretation.\n",
      "  warnings.warn(\n"
     ]
    },
    {
     "data": {
      "text/plain": [
       "<AxesSubplot:xlabel='device', ylabel='count'>"
      ]
     },
     "execution_count": 79,
     "metadata": {},
     "output_type": "execute_result"
    },
    {
     "data": {
      "image/png": "[encoded data removed]",
      "text/plain": [
       "<Figure size 432x288 with 1 Axes>"
      ]
     },
     "metadata": {
      "needs_background": "light"
     },
     "output_type": "display_data"
    }
   ],
   "source": [
    "sns.countplot(\"device\", data = fb)"
   ]
  },
  {
   "cell_type": "code",
   "execution_count": 80,
   "id": "a86b9531",
   "metadata": {},
   "outputs": [
    {
     "data": {
      "text/plain": [
       "15101"
      ]
     },
     "execution_count": 80,
     "metadata": {},
     "output_type": "execute_result"
    }
   ],
   "source": [
    "7357 + 6318 + 1426"
   ]
  },
  {
   "cell_type": "code",
   "execution_count": 81,
   "id": "0c785e6d",
   "metadata": {},
   "outputs": [
    {
     "name": "stdout",
     "output_type": "stream",
     "text": [
      "Google Ads -- Devices -- desktop 41.84 % \n",
      "Google Ads -- Devices -- mobile 48.72 % \n",
      "Google Ads -- Devices -- tablet 9.44 % \n"
     ]
    }
   ],
   "source": [
    "print(\"Google Ads -- Devices -- desktop {:.2f} % \".format((6318 / 15101 )* 100))\n",
    "print(\"Google Ads -- Devices -- mobile {:.2f} % \".format((7357 / 15101 )* 100))\n",
    "print(\"Google Ads -- Devices -- tablet {:.2f} % \".format((1426 / 15101 )* 100))"
   ]
  },
  {
   "cell_type": "markdown",
   "id": "caa0f274",
   "metadata": {},
   "source": [
    "### 12. Age"
   ]
  },
  {
   "cell_type": "code",
   "execution_count": 82,
   "id": "aaf44bda",
   "metadata": {},
   "outputs": [
    {
     "data": {
      "text/plain": [
       "array(['18-24', '25-34', '35-44', 'Undetermined', '55-64', '65 or more',\n",
       "       '45-54'], dtype=object)"
      ]
     },
     "execution_count": 82,
     "metadata": {},
     "output_type": "execute_result"
    }
   ],
   "source": [
    "data[\"age\"].unique()"
   ]
  },
  {
   "cell_type": "code",
   "execution_count": 83,
   "id": "8bea54b0",
   "metadata": {},
   "outputs": [
    {
     "data": {
      "text/plain": [
       "25-34           3097\n",
       "35-44           2865\n",
       "Undetermined    2586\n",
       "45-54           2499\n",
       "18-24           2472\n",
       "55-64           1757\n",
       "65 or more      1558\n",
       "Name: age, dtype: int64"
      ]
     },
     "execution_count": 83,
     "metadata": {},
     "output_type": "execute_result"
    }
   ],
   "source": [
    "data[\"age\"].value_counts()"
   ]
  },
  {
   "cell_type": "code",
   "execution_count": 84,
   "id": "6624ecbd",
   "metadata": {},
   "outputs": [
    {
     "name": "stderr",
     "output_type": "stream",
     "text": [
      "C:\\Users\\shail\\AppData\\Local\\Programs\\Python\\Python310\\lib\\site-packages\\seaborn\\_decorators.py:36: FutureWarning: Pass the following variable as a keyword arg: x. From version 0.12, the only valid positional argument will be `data`, and passing other arguments without an explicit keyword will result in an error or misinterpretation.\n",
      "  warnings.warn(\n"
     ]
    },
    {
     "data": {
      "text/plain": [
       "<AxesSubplot:xlabel='age', ylabel='count'>"
      ]
     },
     "execution_count": 84,
     "metadata": {},
     "output_type": "execute_result"
    },
    {
     "data": {
      "image/png": "[encoded data removed]",
      "text/plain": [
       "<Figure size 864x360 with 1 Axes>"
      ]
     },
     "metadata": {
      "needs_background": "light"
     },
     "output_type": "display_data"
    }
   ],
   "source": [
    "plt.figure(figsize = (12 , 5))\n",
    "sns.countplot(\"age\" , data = data)"
   ]
  },
  {
   "cell_type": "code",
   "execution_count": 85,
   "id": "5b69808d",
   "metadata": {},
   "outputs": [
    {
     "data": {
      "text/plain": [
       "25-34           18.397291\n",
       "35-44           17.019128\n",
       "Undetermined    15.361768\n",
       "45-54           14.844957\n",
       "18-24           14.684567\n",
       "55-64           10.437210\n",
       "65 or more       9.255079\n",
       "Name: age, dtype: float64"
      ]
     },
     "execution_count": 85,
     "metadata": {},
     "output_type": "execute_result"
    }
   ],
   "source": [
    "age = data[\"age\"].value_counts()\n",
    "age = (age / age.sum() *100)\n",
    "age"
   ]
  },
  {
   "cell_type": "code",
   "execution_count": 86,
   "id": "4df9c1b2",
   "metadata": {},
   "outputs": [
    {
     "data": {
      "image/png": "[encoded data removed]",
      "text/plain": [
       "<Figure size 720x432 with 1 Axes>"
      ]
     },
     "metadata": {},
     "output_type": "display_data"
    }
   ],
   "source": [
    "plt.figure(figsize=(10 , 6))\n",
    "plt.pie(age , labels = age.index)\n",
    "plt.savefig(\"./images/age_counts.png\")"
   ]
  },
  {
   "cell_type": "markdown",
   "id": "0a7d2129",
   "metadata": {},
   "source": [
    "### 13 . Spends"
   ]
  },
  {
   "cell_type": "code",
   "execution_count": 87,
   "id": "b605f992",
   "metadata": {},
   "outputs": [
    {
     "data": {
      "text/plain": [
       "array([ 0.  , 14.63,  1.07, ..., 86.39, 14.76, 27.83])"
      ]
     },
     "execution_count": 87,
     "metadata": {},
     "output_type": "execute_result"
    }
   ],
   "source": [
    "data[\"spends\"].unique()"
   ]
  },
  {
   "cell_type": "code",
   "execution_count": 88,
   "id": "ff871516",
   "metadata": {},
   "outputs": [
    {
     "data": {
      "text/plain": [
       "0.00      4104\n",
       "0.43        52\n",
       "0.46        42\n",
       "1.42        33\n",
       "1.43        32\n",
       "          ... \n",
       "358.75       1\n",
       "516.64       1\n",
       "77.92        1\n",
       "176.35       1\n",
       "27.83        1\n",
       "Name: spends, Length: 9087, dtype: int64"
      ]
     },
     "execution_count": 88,
     "metadata": {},
     "output_type": "execute_result"
    }
   ],
   "source": [
    "data[\"spends\"].value_counts()"
   ]
  },
  {
   "cell_type": "code",
   "execution_count": 89,
   "id": "fc18a16b",
   "metadata": {},
   "outputs": [
    {
     "data": {
      "text/plain": [
       "0.0"
      ]
     },
     "execution_count": 89,
     "metadata": {},
     "output_type": "execute_result"
    }
   ],
   "source": [
    "data[\"spends\"][0]"
   ]
  },
  {
   "cell_type": "code",
   "execution_count": 90,
   "id": "95859801",
   "metadata": {},
   "outputs": [
    {
     "data": {
      "text/plain": [
       "27.83"
      ]
     },
     "execution_count": 90,
     "metadata": {},
     "output_type": "execute_result"
    }
   ],
   "source": [
    "(data[\"spends\"].value_counts().index)[-1]"
   ]
  },
  {
   "cell_type": "code",
   "execution_count": 91,
   "id": "564fe930",
   "metadata": {},
   "outputs": [
    {
     "data": {
      "text/plain": [
       "9221.96"
      ]
     },
     "execution_count": 91,
     "metadata": {},
     "output_type": "execute_result"
    }
   ],
   "source": [
    "sorted(data[\"spends\"].value_counts().index)[-1]"
   ]
  },
  {
   "cell_type": "code",
   "execution_count": 92,
   "id": "ceb395b7",
   "metadata": {},
   "outputs": [],
   "source": [
    "visitors_spend_less_2_mins = data[data[\"spends\"] <= 120.00]"
   ]
  },
  {
   "cell_type": "code",
   "execution_count": 93,
   "id": "e44b17bf",
   "metadata": {},
   "outputs": [
    {
     "data": {
      "text/html": [
       "<div>\n",
       "<style scoped>\n",
       "    .dataframe tbody tr th:only-of-type {\n",
       "        vertical-align: middle;\n",
       "    }\n",
       "\n",
       "    .dataframe tbody tr th {\n",
       "        vertical-align: top;\n",
       "    }\n",
       "\n",
       "    .dataframe thead th {\n",
       "        text-align: right;\n",
       "    }\n",
       "</style>\n",
       "<table border=\"1\" class=\"dataframe\">\n",
       "  <thead>\n",
       "    <tr style=\"text-align: right;\">\n",
       "      <th></th>\n",
       "      <th>Date</th>\n",
       "      <th>campaign_platform</th>\n",
       "      <th>subchannel</th>\n",
       "      <th>audience_type</th>\n",
       "      <th>creative_type</th>\n",
       "      <th>creative_name</th>\n",
       "      <th>device</th>\n",
       "      <th>age</th>\n",
       "      <th>spends</th>\n",
       "      <th>impressions</th>\n",
       "      <th>clicks</th>\n",
       "      <th>link_clicks</th>\n",
       "    </tr>\n",
       "  </thead>\n",
       "  <tbody>\n",
       "    <tr>\n",
       "      <th>0</th>\n",
       "      <td>2019-10-16</td>\n",
       "      <td>Google Ads</td>\n",
       "      <td>Brand</td>\n",
       "      <td>'-</td>\n",
       "      <td>'-</td>\n",
       "      <td>'-</td>\n",
       "      <td>Desktop</td>\n",
       "      <td>18-24</td>\n",
       "      <td>0.00</td>\n",
       "      <td>2</td>\n",
       "      <td>0</td>\n",
       "      <td>0.0</td>\n",
       "    </tr>\n",
       "    <tr>\n",
       "      <th>1</th>\n",
       "      <td>2019-10-16</td>\n",
       "      <td>Google Ads</td>\n",
       "      <td>Brand</td>\n",
       "      <td>'-</td>\n",
       "      <td>'-</td>\n",
       "      <td>'-</td>\n",
       "      <td>Desktop</td>\n",
       "      <td>25-34</td>\n",
       "      <td>0.00</td>\n",
       "      <td>5</td>\n",
       "      <td>0</td>\n",
       "      <td>0.0</td>\n",
       "    </tr>\n",
       "    <tr>\n",
       "      <th>2</th>\n",
       "      <td>2019-10-16</td>\n",
       "      <td>Google Ads</td>\n",
       "      <td>Brand</td>\n",
       "      <td>'-</td>\n",
       "      <td>'-</td>\n",
       "      <td>'-</td>\n",
       "      <td>Desktop</td>\n",
       "      <td>35-44</td>\n",
       "      <td>0.00</td>\n",
       "      <td>1</td>\n",
       "      <td>0</td>\n",
       "      <td>0.0</td>\n",
       "    </tr>\n",
       "    <tr>\n",
       "      <th>3</th>\n",
       "      <td>2019-10-16</td>\n",
       "      <td>Google Ads</td>\n",
       "      <td>Brand</td>\n",
       "      <td>'-</td>\n",
       "      <td>'-</td>\n",
       "      <td>'-</td>\n",
       "      <td>Desktop</td>\n",
       "      <td>Undetermined</td>\n",
       "      <td>14.63</td>\n",
       "      <td>5</td>\n",
       "      <td>3</td>\n",
       "      <td>0.0</td>\n",
       "    </tr>\n",
       "    <tr>\n",
       "      <th>17</th>\n",
       "      <td>2019-10-18</td>\n",
       "      <td>Google Ads</td>\n",
       "      <td>Brand</td>\n",
       "      <td>'-</td>\n",
       "      <td>'-</td>\n",
       "      <td>'-</td>\n",
       "      <td>Mobile</td>\n",
       "      <td>Undetermined</td>\n",
       "      <td>0.00</td>\n",
       "      <td>2</td>\n",
       "      <td>0</td>\n",
       "      <td>0.0</td>\n",
       "    </tr>\n",
       "    <tr>\n",
       "      <th>...</th>\n",
       "      <td>...</td>\n",
       "      <td>...</td>\n",
       "      <td>...</td>\n",
       "      <td>...</td>\n",
       "      <td>...</td>\n",
       "      <td>...</td>\n",
       "      <td>...</td>\n",
       "      <td>...</td>\n",
       "      <td>...</td>\n",
       "      <td>...</td>\n",
       "      <td>...</td>\n",
       "      <td>...</td>\n",
       "    </tr>\n",
       "    <tr>\n",
       "      <th>16818</th>\n",
       "      <td>2020-07-07</td>\n",
       "      <td>Google Ads</td>\n",
       "      <td>Brand</td>\n",
       "      <td>'-</td>\n",
       "      <td>'-</td>\n",
       "      <td>'-</td>\n",
       "      <td>Mobile</td>\n",
       "      <td>25-34</td>\n",
       "      <td>39.33</td>\n",
       "      <td>67</td>\n",
       "      <td>16</td>\n",
       "      <td>0.0</td>\n",
       "    </tr>\n",
       "    <tr>\n",
       "      <th>16817</th>\n",
       "      <td>2020-07-07</td>\n",
       "      <td>Google Ads</td>\n",
       "      <td>Brand</td>\n",
       "      <td>'-</td>\n",
       "      <td>'-</td>\n",
       "      <td>'-</td>\n",
       "      <td>Mobile</td>\n",
       "      <td>18-24</td>\n",
       "      <td>27.83</td>\n",
       "      <td>55</td>\n",
       "      <td>15</td>\n",
       "      <td>0.0</td>\n",
       "    </tr>\n",
       "    <tr>\n",
       "      <th>16832</th>\n",
       "      <td>2020-07-07</td>\n",
       "      <td>Google Ads</td>\n",
       "      <td>Brand</td>\n",
       "      <td>'-</td>\n",
       "      <td>'-</td>\n",
       "      <td>'-</td>\n",
       "      <td>Mobile</td>\n",
       "      <td>65 or more</td>\n",
       "      <td>0.00</td>\n",
       "      <td>3</td>\n",
       "      <td>0</td>\n",
       "      <td>0.0</td>\n",
       "    </tr>\n",
       "    <tr>\n",
       "      <th>16824</th>\n",
       "      <td>2020-07-07</td>\n",
       "      <td>Google Ads</td>\n",
       "      <td>Brand</td>\n",
       "      <td>'-</td>\n",
       "      <td>'-</td>\n",
       "      <td>'-</td>\n",
       "      <td>Desktop</td>\n",
       "      <td>18-24</td>\n",
       "      <td>3.04</td>\n",
       "      <td>4</td>\n",
       "      <td>3</td>\n",
       "      <td>0.0</td>\n",
       "    </tr>\n",
       "    <tr>\n",
       "      <th>16833</th>\n",
       "      <td>2020-07-07</td>\n",
       "      <td>Google Ads</td>\n",
       "      <td>Brand</td>\n",
       "      <td>'-</td>\n",
       "      <td>'-</td>\n",
       "      <td>'-</td>\n",
       "      <td>Mobile</td>\n",
       "      <td>Undetermined</td>\n",
       "      <td>1.40</td>\n",
       "      <td>14</td>\n",
       "      <td>1</td>\n",
       "      <td>0.0</td>\n",
       "    </tr>\n",
       "  </tbody>\n",
       "</table>\n",
       "<p>12851 rows × 12 columns</p>\n",
       "</div>"
      ],
      "text/plain": [
       "            Date campaign_platform subchannel audience_type creative_type  \\\n",
       "0     2019-10-16        Google Ads      Brand            '-            '-   \n",
       "1     2019-10-16        Google Ads      Brand            '-            '-   \n",
       "2     2019-10-16        Google Ads      Brand            '-            '-   \n",
       "3     2019-10-16        Google Ads      Brand            '-            '-   \n",
       "17    2019-10-18        Google Ads      Brand            '-            '-   \n",
       "...          ...               ...        ...           ...           ...   \n",
       "16818 2020-07-07        Google Ads      Brand            '-            '-   \n",
       "16817 2020-07-07        Google Ads      Brand            '-            '-   \n",
       "16832 2020-07-07        Google Ads      Brand            '-            '-   \n",
       "16824 2020-07-07        Google Ads      Brand            '-            '-   \n",
       "16833 2020-07-07        Google Ads      Brand            '-            '-   \n",
       "\n",
       "      creative_name   device           age  spends  impressions  clicks  \\\n",
       "0                '-  Desktop         18-24    0.00            2       0   \n",
       "1                '-  Desktop         25-34    0.00            5       0   \n",
       "2                '-  Desktop         35-44    0.00            1       0   \n",
       "3                '-  Desktop  Undetermined   14.63            5       3   \n",
       "17               '-   Mobile  Undetermined    0.00            2       0   \n",
       "...             ...      ...           ...     ...          ...     ...   \n",
       "16818            '-   Mobile         25-34   39.33           67      16   \n",
       "16817            '-   Mobile         18-24   27.83           55      15   \n",
       "16832            '-   Mobile    65 or more    0.00            3       0   \n",
       "16824            '-  Desktop         18-24    3.04            4       3   \n",
       "16833            '-   Mobile  Undetermined    1.40           14       1   \n",
       "\n",
       "       link_clicks  \n",
       "0              0.0  \n",
       "1              0.0  \n",
       "2              0.0  \n",
       "3              0.0  \n",
       "17             0.0  \n",
       "...            ...  \n",
       "16818          0.0  \n",
       "16817          0.0  \n",
       "16832          0.0  \n",
       "16824          0.0  \n",
       "16833          0.0  \n",
       "\n",
       "[12851 rows x 12 columns]"
      ]
     },
     "execution_count": 93,
     "metadata": {},
     "output_type": "execute_result"
    }
   ],
   "source": [
    "visitors_spend_less_2_mins"
   ]
  },
  {
   "cell_type": "code",
   "execution_count": 94,
   "id": "d36d89e4",
   "metadata": {},
   "outputs": [],
   "source": [
    "visitors_spends_more_2_mins = data[data[\"spends\"] > 120.00]"
   ]
  },
  {
   "cell_type": "code",
   "execution_count": 95,
   "id": "ae90a926",
   "metadata": {},
   "outputs": [
    {
     "data": {
      "text/html": [
       "<div>\n",
       "<style scoped>\n",
       "    .dataframe tbody tr th:only-of-type {\n",
       "        vertical-align: middle;\n",
       "    }\n",
       "\n",
       "    .dataframe tbody tr th {\n",
       "        vertical-align: top;\n",
       "    }\n",
       "\n",
       "    .dataframe thead th {\n",
       "        text-align: right;\n",
       "    }\n",
       "</style>\n",
       "<table border=\"1\" class=\"dataframe\">\n",
       "  <thead>\n",
       "    <tr style=\"text-align: right;\">\n",
       "      <th></th>\n",
       "      <th>Date</th>\n",
       "      <th>campaign_platform</th>\n",
       "      <th>subchannel</th>\n",
       "      <th>audience_type</th>\n",
       "      <th>creative_type</th>\n",
       "      <th>creative_name</th>\n",
       "      <th>device</th>\n",
       "      <th>age</th>\n",
       "      <th>spends</th>\n",
       "      <th>impressions</th>\n",
       "      <th>clicks</th>\n",
       "      <th>link_clicks</th>\n",
       "    </tr>\n",
       "  </thead>\n",
       "  <tbody>\n",
       "    <tr>\n",
       "      <th>6</th>\n",
       "      <td>2019-10-18</td>\n",
       "      <td>Google Ads</td>\n",
       "      <td>Brand</td>\n",
       "      <td>'-</td>\n",
       "      <td>'-</td>\n",
       "      <td>'-</td>\n",
       "      <td>Desktop</td>\n",
       "      <td>35-44</td>\n",
       "      <td>331.70</td>\n",
       "      <td>36</td>\n",
       "      <td>10</td>\n",
       "      <td>0.0</td>\n",
       "    </tr>\n",
       "    <tr>\n",
       "      <th>5</th>\n",
       "      <td>2019-10-18</td>\n",
       "      <td>Google Ads</td>\n",
       "      <td>Brand</td>\n",
       "      <td>'-</td>\n",
       "      <td>'-</td>\n",
       "      <td>'-</td>\n",
       "      <td>Desktop</td>\n",
       "      <td>25-34</td>\n",
       "      <td>285.38</td>\n",
       "      <td>61</td>\n",
       "      <td>10</td>\n",
       "      <td>0.0</td>\n",
       "    </tr>\n",
       "    <tr>\n",
       "      <th>10</th>\n",
       "      <td>2019-10-18</td>\n",
       "      <td>Google Ads</td>\n",
       "      <td>Brand</td>\n",
       "      <td>'-</td>\n",
       "      <td>'-</td>\n",
       "      <td>'-</td>\n",
       "      <td>Desktop</td>\n",
       "      <td>Undetermined</td>\n",
       "      <td>130.65</td>\n",
       "      <td>33</td>\n",
       "      <td>5</td>\n",
       "      <td>0.0</td>\n",
       "    </tr>\n",
       "    <tr>\n",
       "      <th>31</th>\n",
       "      <td>2019-10-19</td>\n",
       "      <td>Google Ads</td>\n",
       "      <td>Brand</td>\n",
       "      <td>'-</td>\n",
       "      <td>'-</td>\n",
       "      <td>'-</td>\n",
       "      <td>Mobile</td>\n",
       "      <td>25-34</td>\n",
       "      <td>197.30</td>\n",
       "      <td>8</td>\n",
       "      <td>5</td>\n",
       "      <td>0.0</td>\n",
       "    </tr>\n",
       "    <tr>\n",
       "      <th>23</th>\n",
       "      <td>2019-10-19</td>\n",
       "      <td>Google Ads</td>\n",
       "      <td>Brand</td>\n",
       "      <td>'-</td>\n",
       "      <td>'-</td>\n",
       "      <td>'-</td>\n",
       "      <td>Desktop</td>\n",
       "      <td>Undetermined</td>\n",
       "      <td>200.14</td>\n",
       "      <td>19</td>\n",
       "      <td>5</td>\n",
       "      <td>0.0</td>\n",
       "    </tr>\n",
       "    <tr>\n",
       "      <th>...</th>\n",
       "      <td>...</td>\n",
       "      <td>...</td>\n",
       "      <td>...</td>\n",
       "      <td>...</td>\n",
       "      <td>...</td>\n",
       "      <td>...</td>\n",
       "      <td>...</td>\n",
       "      <td>...</td>\n",
       "      <td>...</td>\n",
       "      <td>...</td>\n",
       "      <td>...</td>\n",
       "      <td>...</td>\n",
       "    </tr>\n",
       "    <tr>\n",
       "      <th>16696</th>\n",
       "      <td>2020-07-01</td>\n",
       "      <td>Google Ads</td>\n",
       "      <td>Brand</td>\n",
       "      <td>'-</td>\n",
       "      <td>'-</td>\n",
       "      <td>'-</td>\n",
       "      <td>Mobile</td>\n",
       "      <td>25-34</td>\n",
       "      <td>200.27</td>\n",
       "      <td>211</td>\n",
       "      <td>70</td>\n",
       "      <td>0.0</td>\n",
       "    </tr>\n",
       "    <tr>\n",
       "      <th>16717</th>\n",
       "      <td>2020-07-02</td>\n",
       "      <td>Google Ads</td>\n",
       "      <td>Brand</td>\n",
       "      <td>'-</td>\n",
       "      <td>'-</td>\n",
       "      <td>'-</td>\n",
       "      <td>Mobile</td>\n",
       "      <td>25-34</td>\n",
       "      <td>160.40</td>\n",
       "      <td>235</td>\n",
       "      <td>68</td>\n",
       "      <td>0.0</td>\n",
       "    </tr>\n",
       "    <tr>\n",
       "      <th>16738</th>\n",
       "      <td>2020-07-03</td>\n",
       "      <td>Google Ads</td>\n",
       "      <td>Brand</td>\n",
       "      <td>'-</td>\n",
       "      <td>'-</td>\n",
       "      <td>'-</td>\n",
       "      <td>Mobile</td>\n",
       "      <td>25-34</td>\n",
       "      <td>272.34</td>\n",
       "      <td>117</td>\n",
       "      <td>32</td>\n",
       "      <td>0.0</td>\n",
       "    </tr>\n",
       "    <tr>\n",
       "      <th>16759</th>\n",
       "      <td>2020-07-04</td>\n",
       "      <td>Google Ads</td>\n",
       "      <td>Brand</td>\n",
       "      <td>'-</td>\n",
       "      <td>'-</td>\n",
       "      <td>'-</td>\n",
       "      <td>Mobile</td>\n",
       "      <td>25-34</td>\n",
       "      <td>197.77</td>\n",
       "      <td>220</td>\n",
       "      <td>54</td>\n",
       "      <td>0.0</td>\n",
       "    </tr>\n",
       "    <tr>\n",
       "      <th>16780</th>\n",
       "      <td>2020-07-05</td>\n",
       "      <td>Google Ads</td>\n",
       "      <td>Brand</td>\n",
       "      <td>'-</td>\n",
       "      <td>'-</td>\n",
       "      <td>'-</td>\n",
       "      <td>Mobile</td>\n",
       "      <td>25-34</td>\n",
       "      <td>150.30</td>\n",
       "      <td>178</td>\n",
       "      <td>50</td>\n",
       "      <td>0.0</td>\n",
       "    </tr>\n",
       "  </tbody>\n",
       "</table>\n",
       "<p>3983 rows × 12 columns</p>\n",
       "</div>"
      ],
      "text/plain": [
       "            Date campaign_platform subchannel audience_type creative_type  \\\n",
       "6     2019-10-18        Google Ads      Brand            '-            '-   \n",
       "5     2019-10-18        Google Ads      Brand            '-            '-   \n",
       "10    2019-10-18        Google Ads      Brand            '-            '-   \n",
       "31    2019-10-19        Google Ads      Brand            '-            '-   \n",
       "23    2019-10-19        Google Ads      Brand            '-            '-   \n",
       "...          ...               ...        ...           ...           ...   \n",
       "16696 2020-07-01        Google Ads      Brand            '-            '-   \n",
       "16717 2020-07-02        Google Ads      Brand            '-            '-   \n",
       "16738 2020-07-03        Google Ads      Brand            '-            '-   \n",
       "16759 2020-07-04        Google Ads      Brand            '-            '-   \n",
       "16780 2020-07-05        Google Ads      Brand            '-            '-   \n",
       "\n",
       "      creative_name   device           age  spends  impressions  clicks  \\\n",
       "6                '-  Desktop         35-44  331.70           36      10   \n",
       "5                '-  Desktop         25-34  285.38           61      10   \n",
       "10               '-  Desktop  Undetermined  130.65           33       5   \n",
       "31               '-   Mobile         25-34  197.30            8       5   \n",
       "23               '-  Desktop  Undetermined  200.14           19       5   \n",
       "...             ...      ...           ...     ...          ...     ...   \n",
       "16696            '-   Mobile         25-34  200.27          211      70   \n",
       "16717            '-   Mobile         25-34  160.40          235      68   \n",
       "16738            '-   Mobile         25-34  272.34          117      32   \n",
       "16759            '-   Mobile         25-34  197.77          220      54   \n",
       "16780            '-   Mobile         25-34  150.30          178      50   \n",
       "\n",
       "       link_clicks  \n",
       "6              0.0  \n",
       "5              0.0  \n",
       "10             0.0  \n",
       "31             0.0  \n",
       "23             0.0  \n",
       "...            ...  \n",
       "16696          0.0  \n",
       "16717          0.0  \n",
       "16738          0.0  \n",
       "16759          0.0  \n",
       "16780          0.0  \n",
       "\n",
       "[3983 rows x 12 columns]"
      ]
     },
     "execution_count": 95,
     "metadata": {},
     "output_type": "execute_result"
    }
   ],
   "source": [
    "visitors_spends_more_2_mins"
   ]
  },
  {
   "cell_type": "code",
   "execution_count": 96,
   "id": "de49e7fb",
   "metadata": {},
   "outputs": [
    {
     "name": "stderr",
     "output_type": "stream",
     "text": [
      "C:\\Users\\shail\\AppData\\Local\\Programs\\Python\\Python310\\lib\\site-packages\\seaborn\\distributions.py:2619: FutureWarning: `distplot` is a deprecated function and will be removed in a future version. Please adapt your code to use either `displot` (a figure-level function with similar flexibility) or `histplot` (an axes-level function for histograms).\n",
      "  warnings.warn(msg, FutureWarning)\n"
     ]
    },
    {
     "data": {
      "text/plain": [
       "<AxesSubplot:xlabel='spends', ylabel='Density'>"
      ]
     },
     "execution_count": 96,
     "metadata": {},
     "output_type": "execute_result"
    },
    {
     "data": {
      "image/png": "[encoded data removed]",
      "text/plain": [
       "<Figure size 864x360 with 1 Axes>"
      ]
     },
     "metadata": {
      "needs_background": "light"
     },
     "output_type": "display_data"
    }
   ],
   "source": [
    "plt.figure(figsize=(12 , 5))\n",
    "sns.distplot(visitors_spend_less_2_mins[\"spends\"])"
   ]
  },
  {
   "cell_type": "code",
   "execution_count": 97,
   "id": "45744c9b",
   "metadata": {},
   "outputs": [
    {
     "name": "stderr",
     "output_type": "stream",
     "text": [
      "C:\\Users\\shail\\AppData\\Local\\Programs\\Python\\Python310\\lib\\site-packages\\seaborn\\distributions.py:2619: FutureWarning: `distplot` is a deprecated function and will be removed in a future version. Please adapt your code to use either `displot` (a figure-level function with similar flexibility) or `histplot` (an axes-level function for histograms).\n",
      "  warnings.warn(msg, FutureWarning)\n"
     ]
    },
    {
     "data": {
      "text/plain": [
       "<AxesSubplot:xlabel='spends', ylabel='Density'>"
      ]
     },
     "execution_count": 97,
     "metadata": {},
     "output_type": "execute_result"
    },
    {
     "data": {
      "image/png": "[encoded data removed]",
      "text/plain": [
       "<Figure size 864x360 with 1 Axes>"
      ]
     },
     "metadata": {
      "needs_background": "light"
     },
     "output_type": "display_data"
    }
   ],
   "source": [
    "plt.figure(figsize=(12 , 5))\n",
    "sns.distplot(visitors_spends_more_2_mins[\"spends\"])"
   ]
  },
  {
   "cell_type": "code",
   "execution_count": 98,
   "id": "2c4e9894",
   "metadata": {},
   "outputs": [],
   "source": [
    "def cat_visitors_spends(seconds):\n",
    "    if seconds == 0:\n",
    "        return 0\n",
    "    elif seconds > 0 and seconds <= 2*60:\n",
    "        return 1\n",
    "    elif seconds > 2*60 and seconds <= 5*60:\n",
    "        return 2\n",
    "    elif seconds > 5*60 and seconds <= 10 * 60:\n",
    "        return 3\n",
    "    elif seconds > 10*60 and seconds <=30*60:\n",
    "        return 4\n",
    "    elif seconds > 30*60 and seconds <= 60*60:\n",
    "        return 5\n",
    "    elif seconds > 60*60 and seconds <= 120*120:\n",
    "        return 6\n",
    "    else:\n",
    "        return 7"
   ]
  },
  {
   "cell_type": "code",
   "execution_count": 99,
   "id": "f01814d2",
   "metadata": {},
   "outputs": [],
   "source": [
    "df = data.copy()"
   ]
  },
  {
   "cell_type": "code",
   "execution_count": 100,
   "id": "3664a3ee",
   "metadata": {},
   "outputs": [],
   "source": [
    "peopele_spends_more = df.sort_values(by=\"spends\", axis=0).iloc[10002:]"
   ]
  },
  {
   "cell_type": "code",
   "execution_count": 101,
   "id": "c41f1e00",
   "metadata": {},
   "outputs": [
    {
     "data": {
      "text/html": [
       "<div>\n",
       "<style scoped>\n",
       "    .dataframe tbody tr th:only-of-type {\n",
       "        vertical-align: middle;\n",
       "    }\n",
       "\n",
       "    .dataframe tbody tr th {\n",
       "        vertical-align: top;\n",
       "    }\n",
       "\n",
       "    .dataframe thead th {\n",
       "        text-align: right;\n",
       "    }\n",
       "</style>\n",
       "<table border=\"1\" class=\"dataframe\">\n",
       "  <thead>\n",
       "    <tr style=\"text-align: right;\">\n",
       "      <th></th>\n",
       "      <th>Date</th>\n",
       "      <th>campaign_platform</th>\n",
       "      <th>subchannel</th>\n",
       "      <th>audience_type</th>\n",
       "      <th>creative_type</th>\n",
       "      <th>creative_name</th>\n",
       "      <th>device</th>\n",
       "      <th>age</th>\n",
       "      <th>spends</th>\n",
       "      <th>impressions</th>\n",
       "      <th>clicks</th>\n",
       "      <th>link_clicks</th>\n",
       "    </tr>\n",
       "  </thead>\n",
       "  <tbody>\n",
       "    <tr>\n",
       "      <th>2860</th>\n",
       "      <td>2019-12-23</td>\n",
       "      <td>Google Ads</td>\n",
       "      <td>Generic</td>\n",
       "      <td>'-</td>\n",
       "      <td>'-</td>\n",
       "      <td>'-</td>\n",
       "      <td>Mobile</td>\n",
       "      <td>45-54</td>\n",
       "      <td>42.08</td>\n",
       "      <td>74</td>\n",
       "      <td>4</td>\n",
       "      <td>0.0</td>\n",
       "    </tr>\n",
       "    <tr>\n",
       "      <th>679</th>\n",
       "      <td>2019-11-19</td>\n",
       "      <td>Google Ads</td>\n",
       "      <td>Brand</td>\n",
       "      <td>'-</td>\n",
       "      <td>'-</td>\n",
       "      <td>'-</td>\n",
       "      <td>Desktop</td>\n",
       "      <td>18-24</td>\n",
       "      <td>42.09</td>\n",
       "      <td>2</td>\n",
       "      <td>2</td>\n",
       "      <td>0.0</td>\n",
       "    </tr>\n",
       "    <tr>\n",
       "      <th>868</th>\n",
       "      <td>2019-11-26</td>\n",
       "      <td>Google Ads</td>\n",
       "      <td>Brand</td>\n",
       "      <td>'-</td>\n",
       "      <td>'-</td>\n",
       "      <td>'-</td>\n",
       "      <td>Tablet</td>\n",
       "      <td>25-34</td>\n",
       "      <td>42.11</td>\n",
       "      <td>2</td>\n",
       "      <td>1</td>\n",
       "      <td>0.0</td>\n",
       "    </tr>\n",
       "    <tr>\n",
       "      <th>10894</th>\n",
       "      <td>2020-02-25</td>\n",
       "      <td>Google Ads</td>\n",
       "      <td>Competitor</td>\n",
       "      <td>'-</td>\n",
       "      <td>'-</td>\n",
       "      <td>'-</td>\n",
       "      <td>Mobile</td>\n",
       "      <td>Undetermined</td>\n",
       "      <td>42.11</td>\n",
       "      <td>131</td>\n",
       "      <td>5</td>\n",
       "      <td>0.0</td>\n",
       "    </tr>\n",
       "    <tr>\n",
       "      <th>8315</th>\n",
       "      <td>2020-02-07</td>\n",
       "      <td>Google Ads</td>\n",
       "      <td>Brand</td>\n",
       "      <td>'-</td>\n",
       "      <td>'-</td>\n",
       "      <td>'-</td>\n",
       "      <td>Desktop</td>\n",
       "      <td>18-24</td>\n",
       "      <td>42.12</td>\n",
       "      <td>5</td>\n",
       "      <td>3</td>\n",
       "      <td>0.0</td>\n",
       "    </tr>\n",
       "  </tbody>\n",
       "</table>\n",
       "</div>"
      ],
      "text/plain": [
       "            Date campaign_platform  subchannel audience_type creative_type  \\\n",
       "2860  2019-12-23        Google Ads     Generic            '-            '-   \n",
       "679   2019-11-19        Google Ads       Brand            '-            '-   \n",
       "868   2019-11-26        Google Ads       Brand            '-            '-   \n",
       "10894 2020-02-25        Google Ads  Competitor            '-            '-   \n",
       "8315  2020-02-07        Google Ads       Brand            '-            '-   \n",
       "\n",
       "      creative_name   device           age  spends  impressions  clicks  \\\n",
       "2860             '-   Mobile         45-54   42.08           74       4   \n",
       "679              '-  Desktop         18-24   42.09            2       2   \n",
       "868              '-   Tablet         25-34   42.11            2       1   \n",
       "10894            '-   Mobile  Undetermined   42.11          131       5   \n",
       "8315             '-  Desktop         18-24   42.12            5       3   \n",
       "\n",
       "       link_clicks  \n",
       "2860           0.0  \n",
       "679            0.0  \n",
       "868            0.0  \n",
       "10894          0.0  \n",
       "8315           0.0  "
      ]
     },
     "execution_count": 101,
     "metadata": {},
     "output_type": "execute_result"
    }
   ],
   "source": [
    "peopele_spends_more.head()"
   ]
  },
  {
   "cell_type": "code",
   "execution_count": 102,
   "id": "79296aa6",
   "metadata": {},
   "outputs": [],
   "source": [
    "peopele_spends_more.reset_index(drop=True , inplace=True)"
   ]
  },
  {
   "cell_type": "code",
   "execution_count": 103,
   "id": "2f5f26b5",
   "metadata": {},
   "outputs": [
    {
     "data": {
      "text/html": [
       "<div>\n",
       "<style scoped>\n",
       "    .dataframe tbody tr th:only-of-type {\n",
       "        vertical-align: middle;\n",
       "    }\n",
       "\n",
       "    .dataframe tbody tr th {\n",
       "        vertical-align: top;\n",
       "    }\n",
       "\n",
       "    .dataframe thead th {\n",
       "        text-align: right;\n",
       "    }\n",
       "</style>\n",
       "<table border=\"1\" class=\"dataframe\">\n",
       "  <thead>\n",
       "    <tr style=\"text-align: right;\">\n",
       "      <th></th>\n",
       "      <th>Date</th>\n",
       "      <th>campaign_platform</th>\n",
       "      <th>subchannel</th>\n",
       "      <th>audience_type</th>\n",
       "      <th>creative_type</th>\n",
       "      <th>creative_name</th>\n",
       "      <th>device</th>\n",
       "      <th>age</th>\n",
       "      <th>spends</th>\n",
       "      <th>impressions</th>\n",
       "      <th>clicks</th>\n",
       "      <th>link_clicks</th>\n",
       "    </tr>\n",
       "  </thead>\n",
       "  <tbody>\n",
       "    <tr>\n",
       "      <th>0</th>\n",
       "      <td>2019-12-23</td>\n",
       "      <td>Google Ads</td>\n",
       "      <td>Generic</td>\n",
       "      <td>'-</td>\n",
       "      <td>'-</td>\n",
       "      <td>'-</td>\n",
       "      <td>Mobile</td>\n",
       "      <td>45-54</td>\n",
       "      <td>42.08</td>\n",
       "      <td>74</td>\n",
       "      <td>4</td>\n",
       "      <td>0.0</td>\n",
       "    </tr>\n",
       "    <tr>\n",
       "      <th>1</th>\n",
       "      <td>2019-11-19</td>\n",
       "      <td>Google Ads</td>\n",
       "      <td>Brand</td>\n",
       "      <td>'-</td>\n",
       "      <td>'-</td>\n",
       "      <td>'-</td>\n",
       "      <td>Desktop</td>\n",
       "      <td>18-24</td>\n",
       "      <td>42.09</td>\n",
       "      <td>2</td>\n",
       "      <td>2</td>\n",
       "      <td>0.0</td>\n",
       "    </tr>\n",
       "    <tr>\n",
       "      <th>2</th>\n",
       "      <td>2019-11-26</td>\n",
       "      <td>Google Ads</td>\n",
       "      <td>Brand</td>\n",
       "      <td>'-</td>\n",
       "      <td>'-</td>\n",
       "      <td>'-</td>\n",
       "      <td>Tablet</td>\n",
       "      <td>25-34</td>\n",
       "      <td>42.11</td>\n",
       "      <td>2</td>\n",
       "      <td>1</td>\n",
       "      <td>0.0</td>\n",
       "    </tr>\n",
       "    <tr>\n",
       "      <th>3</th>\n",
       "      <td>2020-02-25</td>\n",
       "      <td>Google Ads</td>\n",
       "      <td>Competitor</td>\n",
       "      <td>'-</td>\n",
       "      <td>'-</td>\n",
       "      <td>'-</td>\n",
       "      <td>Mobile</td>\n",
       "      <td>Undetermined</td>\n",
       "      <td>42.11</td>\n",
       "      <td>131</td>\n",
       "      <td>5</td>\n",
       "      <td>0.0</td>\n",
       "    </tr>\n",
       "    <tr>\n",
       "      <th>4</th>\n",
       "      <td>2020-02-07</td>\n",
       "      <td>Google Ads</td>\n",
       "      <td>Brand</td>\n",
       "      <td>'-</td>\n",
       "      <td>'-</td>\n",
       "      <td>'-</td>\n",
       "      <td>Desktop</td>\n",
       "      <td>18-24</td>\n",
       "      <td>42.12</td>\n",
       "      <td>5</td>\n",
       "      <td>3</td>\n",
       "      <td>0.0</td>\n",
       "    </tr>\n",
       "  </tbody>\n",
       "</table>\n",
       "</div>"
      ],
      "text/plain": [
       "        Date campaign_platform  subchannel audience_type creative_type  \\\n",
       "0 2019-12-23        Google Ads     Generic            '-            '-   \n",
       "1 2019-11-19        Google Ads       Brand            '-            '-   \n",
       "2 2019-11-26        Google Ads       Brand            '-            '-   \n",
       "3 2020-02-25        Google Ads  Competitor            '-            '-   \n",
       "4 2020-02-07        Google Ads       Brand            '-            '-   \n",
       "\n",
       "  creative_name   device           age  spends  impressions  clicks  \\\n",
       "0            '-   Mobile         45-54   42.08           74       4   \n",
       "1            '-  Desktop         18-24   42.09            2       2   \n",
       "2            '-   Tablet         25-34   42.11            2       1   \n",
       "3            '-   Mobile  Undetermined   42.11          131       5   \n",
       "4            '-  Desktop         18-24   42.12            5       3   \n",
       "\n",
       "   link_clicks  \n",
       "0          0.0  \n",
       "1          0.0  \n",
       "2          0.0  \n",
       "3          0.0  \n",
       "4          0.0  "
      ]
     },
     "execution_count": 103,
     "metadata": {},
     "output_type": "execute_result"
    }
   ],
   "source": [
    "peopele_spends_more.head()"
   ]
  },
  {
   "cell_type": "code",
   "execution_count": 104,
   "id": "a3287a50",
   "metadata": {},
   "outputs": [],
   "source": [
    "data[\"spends\"] = data[\"spends\"].apply(lambda seconds: cat_visitors_spends(seconds))"
   ]
  },
  {
   "cell_type": "code",
   "execution_count": 105,
   "id": "79ec253b",
   "metadata": {},
   "outputs": [
    {
     "data": {
      "text/html": [
       "<div>\n",
       "<style scoped>\n",
       "    .dataframe tbody tr th:only-of-type {\n",
       "        vertical-align: middle;\n",
       "    }\n",
       "\n",
       "    .dataframe tbody tr th {\n",
       "        vertical-align: top;\n",
       "    }\n",
       "\n",
       "    .dataframe thead th {\n",
       "        text-align: right;\n",
       "    }\n",
       "</style>\n",
       "<table border=\"1\" class=\"dataframe\">\n",
       "  <thead>\n",
       "    <tr style=\"text-align: right;\">\n",
       "      <th></th>\n",
       "      <th>Date</th>\n",
       "      <th>campaign_platform</th>\n",
       "      <th>subchannel</th>\n",
       "      <th>audience_type</th>\n",
       "      <th>creative_type</th>\n",
       "      <th>creative_name</th>\n",
       "      <th>device</th>\n",
       "      <th>age</th>\n",
       "      <th>spends</th>\n",
       "      <th>impressions</th>\n",
       "      <th>clicks</th>\n",
       "      <th>link_clicks</th>\n",
       "    </tr>\n",
       "  </thead>\n",
       "  <tbody>\n",
       "    <tr>\n",
       "      <th>0</th>\n",
       "      <td>2019-10-16</td>\n",
       "      <td>Google Ads</td>\n",
       "      <td>Brand</td>\n",
       "      <td>'-</td>\n",
       "      <td>'-</td>\n",
       "      <td>'-</td>\n",
       "      <td>Desktop</td>\n",
       "      <td>18-24</td>\n",
       "      <td>0</td>\n",
       "      <td>2</td>\n",
       "      <td>0</td>\n",
       "      <td>0.0</td>\n",
       "    </tr>\n",
       "    <tr>\n",
       "      <th>1</th>\n",
       "      <td>2019-10-16</td>\n",
       "      <td>Google Ads</td>\n",
       "      <td>Brand</td>\n",
       "      <td>'-</td>\n",
       "      <td>'-</td>\n",
       "      <td>'-</td>\n",
       "      <td>Desktop</td>\n",
       "      <td>25-34</td>\n",
       "      <td>0</td>\n",
       "      <td>5</td>\n",
       "      <td>0</td>\n",
       "      <td>0.0</td>\n",
       "    </tr>\n",
       "    <tr>\n",
       "      <th>2</th>\n",
       "      <td>2019-10-16</td>\n",
       "      <td>Google Ads</td>\n",
       "      <td>Brand</td>\n",
       "      <td>'-</td>\n",
       "      <td>'-</td>\n",
       "      <td>'-</td>\n",
       "      <td>Desktop</td>\n",
       "      <td>35-44</td>\n",
       "      <td>0</td>\n",
       "      <td>1</td>\n",
       "      <td>0</td>\n",
       "      <td>0.0</td>\n",
       "    </tr>\n",
       "    <tr>\n",
       "      <th>3</th>\n",
       "      <td>2019-10-16</td>\n",
       "      <td>Google Ads</td>\n",
       "      <td>Brand</td>\n",
       "      <td>'-</td>\n",
       "      <td>'-</td>\n",
       "      <td>'-</td>\n",
       "      <td>Desktop</td>\n",
       "      <td>Undetermined</td>\n",
       "      <td>1</td>\n",
       "      <td>5</td>\n",
       "      <td>3</td>\n",
       "      <td>0.0</td>\n",
       "    </tr>\n",
       "    <tr>\n",
       "      <th>17</th>\n",
       "      <td>2019-10-18</td>\n",
       "      <td>Google Ads</td>\n",
       "      <td>Brand</td>\n",
       "      <td>'-</td>\n",
       "      <td>'-</td>\n",
       "      <td>'-</td>\n",
       "      <td>Mobile</td>\n",
       "      <td>Undetermined</td>\n",
       "      <td>0</td>\n",
       "      <td>2</td>\n",
       "      <td>0</td>\n",
       "      <td>0.0</td>\n",
       "    </tr>\n",
       "  </tbody>\n",
       "</table>\n",
       "</div>"
      ],
      "text/plain": [
       "         Date campaign_platform subchannel audience_type creative_type  \\\n",
       "0  2019-10-16        Google Ads      Brand            '-            '-   \n",
       "1  2019-10-16        Google Ads      Brand            '-            '-   \n",
       "2  2019-10-16        Google Ads      Brand            '-            '-   \n",
       "3  2019-10-16        Google Ads      Brand            '-            '-   \n",
       "17 2019-10-18        Google Ads      Brand            '-            '-   \n",
       "\n",
       "   creative_name   device           age  spends  impressions  clicks  \\\n",
       "0             '-  Desktop         18-24       0            2       0   \n",
       "1             '-  Desktop         25-34       0            5       0   \n",
       "2             '-  Desktop         35-44       0            1       0   \n",
       "3             '-  Desktop  Undetermined       1            5       3   \n",
       "17            '-   Mobile  Undetermined       0            2       0   \n",
       "\n",
       "    link_clicks  \n",
       "0           0.0  \n",
       "1           0.0  \n",
       "2           0.0  \n",
       "3           0.0  \n",
       "17          0.0  "
      ]
     },
     "execution_count": 105,
     "metadata": {},
     "output_type": "execute_result"
    }
   ],
   "source": [
    "data.head()"
   ]
  },
  {
   "cell_type": "code",
   "execution_count": 106,
   "id": "745a4416",
   "metadata": {},
   "outputs": [
    {
     "data": {
      "text/plain": [
       "array([0, 1, 3, 2, 4, 5, 6], dtype=int64)"
      ]
     },
     "execution_count": 106,
     "metadata": {},
     "output_type": "execute_result"
    }
   ],
   "source": [
    "data[\"spends\"].unique()"
   ]
  },
  {
   "cell_type": "code",
   "execution_count": 107,
   "id": "8027f76f",
   "metadata": {},
   "outputs": [
    {
     "data": {
      "text/plain": [
       "1    8747\n",
       "0    4104\n",
       "2    1979\n",
       "3    1132\n",
       "4     668\n",
       "5     133\n",
       "6      71\n",
       "Name: spends, dtype: int64"
      ]
     },
     "execution_count": 107,
     "metadata": {},
     "output_type": "execute_result"
    }
   ],
   "source": [
    "data[\"spends\"].value_counts()"
   ]
  },
  {
   "cell_type": "code",
   "execution_count": 108,
   "id": "735eff8b",
   "metadata": {},
   "outputs": [
    {
     "name": "stderr",
     "output_type": "stream",
     "text": [
      "C:\\Users\\shail\\AppData\\Local\\Programs\\Python\\Python310\\lib\\site-packages\\seaborn\\_decorators.py:36: FutureWarning: Pass the following variable as a keyword arg: x. From version 0.12, the only valid positional argument will be `data`, and passing other arguments without an explicit keyword will result in an error or misinterpretation.\n",
      "  warnings.warn(\n"
     ]
    },
    {
     "data": {
      "text/plain": [
       "<AxesSubplot:xlabel='spends', ylabel='count'>"
      ]
     },
     "execution_count": 108,
     "metadata": {},
     "output_type": "execute_result"
    },
    {
     "data": {
      "image/png": "[encoded data removed]",
      "text/plain": [
       "<Figure size 864x360 with 1 Axes>"
      ]
     },
     "metadata": {
      "needs_background": "light"
     },
     "output_type": "display_data"
    }
   ],
   "source": [
    "plt.figure(figsize=(12 , 5))\n",
    "sns.countplot(\"spends\", data=data)"
   ]
  },
  {
   "cell_type": "code",
   "execution_count": 109,
   "id": "f50c326a",
   "metadata": {},
   "outputs": [
    {
     "data": {
      "image/png": "[encoded data removed]",
      "text/plain": [
       "<Figure size 720x432 with 1 Axes>"
      ]
     },
     "metadata": {},
     "output_type": "display_data"
    }
   ],
   "source": [
    "spends = data[\"spends\"].value_counts()\n",
    "plt.figure(figsize=(10, 6))\n",
    "plt.pie(spends , labels = spends.index)\n",
    "plt.plot()\n",
    "plt.savefig(\"./images/time_spends.png\")"
   ]
  },
  {
   "cell_type": "code",
   "execution_count": 110,
   "id": "3abc5f0d",
   "metadata": {},
   "outputs": [
    {
     "data": {
      "text/plain": [
       "Index(['Date', 'campaign_platform', 'subchannel', 'audience_type',\n",
       "       'creative_type', 'creative_name', 'device', 'age', 'spends',\n",
       "       'impressions', 'clicks', 'link_clicks'],\n",
       "      dtype='object')"
      ]
     },
     "execution_count": 110,
     "metadata": {},
     "output_type": "execute_result"
    }
   ],
   "source": [
    "data.columns"
   ]
  },
  {
   "cell_type": "markdown",
   "id": "4fc85107",
   "metadata": {},
   "source": [
    "### 14. impression"
   ]
  },
  {
   "cell_type": "code",
   "execution_count": 111,
   "id": "b99a57c2",
   "metadata": {},
   "outputs": [
    {
     "data": {
      "text/plain": [
       "array([    2,     5,     1, ...,  8801, 27768,  1479], dtype=int64)"
      ]
     },
     "execution_count": 111,
     "metadata": {},
     "output_type": "execute_result"
    }
   ],
   "source": [
    "data[\"impressions\"].unique()"
   ]
  },
  {
   "cell_type": "code",
   "execution_count": 112,
   "id": "5231bc31",
   "metadata": {},
   "outputs": [],
   "source": [
    "impression_more_than_1000 = data[data[\"impressions\"] >= 1000]"
   ]
  },
  {
   "cell_type": "code",
   "execution_count": 113,
   "id": "9507c273",
   "metadata": {},
   "outputs": [
    {
     "data": {
      "text/html": [
       "<div>\n",
       "<style scoped>\n",
       "    .dataframe tbody tr th:only-of-type {\n",
       "        vertical-align: middle;\n",
       "    }\n",
       "\n",
       "    .dataframe tbody tr th {\n",
       "        vertical-align: top;\n",
       "    }\n",
       "\n",
       "    .dataframe thead th {\n",
       "        text-align: right;\n",
       "    }\n",
       "</style>\n",
       "<table border=\"1\" class=\"dataframe\">\n",
       "  <thead>\n",
       "    <tr style=\"text-align: right;\">\n",
       "      <th></th>\n",
       "      <th>Date</th>\n",
       "      <th>campaign_platform</th>\n",
       "      <th>subchannel</th>\n",
       "      <th>audience_type</th>\n",
       "      <th>creative_type</th>\n",
       "      <th>creative_name</th>\n",
       "      <th>device</th>\n",
       "      <th>age</th>\n",
       "      <th>spends</th>\n",
       "      <th>impressions</th>\n",
       "      <th>clicks</th>\n",
       "      <th>link_clicks</th>\n",
       "    </tr>\n",
       "  </thead>\n",
       "  <tbody>\n",
       "    <tr>\n",
       "      <th>1101</th>\n",
       "      <td>2019-12-03</td>\n",
       "      <td>Google Ads</td>\n",
       "      <td>Generic</td>\n",
       "      <td>'-</td>\n",
       "      <td>'-</td>\n",
       "      <td>'-</td>\n",
       "      <td>Mobile</td>\n",
       "      <td>Undetermined</td>\n",
       "      <td>4</td>\n",
       "      <td>1241</td>\n",
       "      <td>48</td>\n",
       "      <td>0.0</td>\n",
       "    </tr>\n",
       "    <tr>\n",
       "      <th>1181</th>\n",
       "      <td>2019-12-04</td>\n",
       "      <td>Google Ads</td>\n",
       "      <td>Generic</td>\n",
       "      <td>'-</td>\n",
       "      <td>'-</td>\n",
       "      <td>'-</td>\n",
       "      <td>Mobile</td>\n",
       "      <td>25-34</td>\n",
       "      <td>5</td>\n",
       "      <td>1223</td>\n",
       "      <td>136</td>\n",
       "      <td>0.0</td>\n",
       "    </tr>\n",
       "    <tr>\n",
       "      <th>1180</th>\n",
       "      <td>2019-12-04</td>\n",
       "      <td>Google Ads</td>\n",
       "      <td>Generic</td>\n",
       "      <td>'-</td>\n",
       "      <td>'-</td>\n",
       "      <td>'-</td>\n",
       "      <td>Mobile</td>\n",
       "      <td>18-24</td>\n",
       "      <td>5</td>\n",
       "      <td>1108</td>\n",
       "      <td>108</td>\n",
       "      <td>0.0</td>\n",
       "    </tr>\n",
       "    <tr>\n",
       "      <th>1186</th>\n",
       "      <td>2019-12-04</td>\n",
       "      <td>Google Ads</td>\n",
       "      <td>Generic</td>\n",
       "      <td>'-</td>\n",
       "      <td>'-</td>\n",
       "      <td>'-</td>\n",
       "      <td>Mobile</td>\n",
       "      <td>Undetermined</td>\n",
       "      <td>4</td>\n",
       "      <td>1788</td>\n",
       "      <td>58</td>\n",
       "      <td>0.0</td>\n",
       "    </tr>\n",
       "    <tr>\n",
       "      <th>1273</th>\n",
       "      <td>2019-12-05</td>\n",
       "      <td>Google Ads</td>\n",
       "      <td>Generic</td>\n",
       "      <td>'-</td>\n",
       "      <td>'-</td>\n",
       "      <td>'-</td>\n",
       "      <td>Mobile</td>\n",
       "      <td>25-34</td>\n",
       "      <td>5</td>\n",
       "      <td>1145</td>\n",
       "      <td>99</td>\n",
       "      <td>0.0</td>\n",
       "    </tr>\n",
       "  </tbody>\n",
       "</table>\n",
       "</div>"
      ],
      "text/plain": [
       "           Date campaign_platform subchannel audience_type creative_type  \\\n",
       "1101 2019-12-03        Google Ads    Generic            '-            '-   \n",
       "1181 2019-12-04        Google Ads    Generic            '-            '-   \n",
       "1180 2019-12-04        Google Ads    Generic            '-            '-   \n",
       "1186 2019-12-04        Google Ads    Generic            '-            '-   \n",
       "1273 2019-12-05        Google Ads    Generic            '-            '-   \n",
       "\n",
       "     creative_name  device           age  spends  impressions  clicks  \\\n",
       "1101            '-  Mobile  Undetermined       4         1241      48   \n",
       "1181            '-  Mobile         25-34       5         1223     136   \n",
       "1180            '-  Mobile         18-24       5         1108     108   \n",
       "1186            '-  Mobile  Undetermined       4         1788      58   \n",
       "1273            '-  Mobile         25-34       5         1145      99   \n",
       "\n",
       "      link_clicks  \n",
       "1101          0.0  \n",
       "1181          0.0  \n",
       "1180          0.0  \n",
       "1186          0.0  \n",
       "1273          0.0  "
      ]
     },
     "execution_count": 113,
     "metadata": {},
     "output_type": "execute_result"
    }
   ],
   "source": [
    "impression_more_than_1000.head()"
   ]
  },
  {
   "cell_type": "code",
   "execution_count": 114,
   "id": "7f204517",
   "metadata": {},
   "outputs": [
    {
     "name": "stderr",
     "output_type": "stream",
     "text": [
      "C:\\Users\\shail\\AppData\\Local\\Programs\\Python\\Python310\\lib\\site-packages\\seaborn\\distributions.py:2619: FutureWarning: `distplot` is a deprecated function and will be removed in a future version. Please adapt your code to use either `displot` (a figure-level function with similar flexibility) or `histplot` (an axes-level function for histograms).\n",
      "  warnings.warn(msg, FutureWarning)\n"
     ]
    },
    {
     "data": {
      "image/png": "[encoded data removed]",
      "text/plain": [
       "<Figure size 864x504 with 1 Axes>"
      ]
     },
     "metadata": {
      "needs_background": "light"
     },
     "output_type": "display_data"
    }
   ],
   "source": [
    "plt.figure(figsize=(12 , 7))\n",
    "sns.distplot(impression_more_than_1000[\"impressions\"])\n",
    "plt.show()"
   ]
  },
  {
   "cell_type": "markdown",
   "id": "a54fbdd6",
   "metadata": {},
   "source": [
    "### cat_visitor_by_impression\n",
    "\n",
    "- 0       : 0\n",
    "- 0 - 20  : 1\n",
    "- 20 - 50 : 2\n",
    "- 50 - 200: 3\n",
    "- 200   : 4\n"
   ]
  },
  {
   "cell_type": "code",
   "execution_count": 115,
   "id": "f2bde740",
   "metadata": {},
   "outputs": [],
   "source": [
    "def cat_visitor_by_impression(impressions):\n",
    "    if impressions == 0:\n",
    "        return 0\n",
    "    elif impressions >= 0 and impressions< 20:\n",
    "        return 1\n",
    "    elif impressions >20 and impressions<50:\n",
    "        return 2\n",
    "    elif impressions>50 and impressions<200:\n",
    "        return 3\n",
    "    else:\n",
    "        return 4"
   ]
  },
  {
   "cell_type": "code",
   "execution_count": 116,
   "id": "42969c82",
   "metadata": {},
   "outputs": [],
   "source": [
    "data[\"impressions\"] = data[\"impressions\"].apply(lambda impressions: cat_visitor_by_impression(impressions))"
   ]
  },
  {
   "cell_type": "code",
   "execution_count": 117,
   "id": "5d95ac6c",
   "metadata": {},
   "outputs": [
    {
     "data": {
      "text/html": [
       "<div>\n",
       "<style scoped>\n",
       "    .dataframe tbody tr th:only-of-type {\n",
       "        vertical-align: middle;\n",
       "    }\n",
       "\n",
       "    .dataframe tbody tr th {\n",
       "        vertical-align: top;\n",
       "    }\n",
       "\n",
       "    .dataframe thead th {\n",
       "        text-align: right;\n",
       "    }\n",
       "</style>\n",
       "<table border=\"1\" class=\"dataframe\">\n",
       "  <thead>\n",
       "    <tr style=\"text-align: right;\">\n",
       "      <th></th>\n",
       "      <th>Date</th>\n",
       "      <th>campaign_platform</th>\n",
       "      <th>subchannel</th>\n",
       "      <th>audience_type</th>\n",
       "      <th>creative_type</th>\n",
       "      <th>creative_name</th>\n",
       "      <th>device</th>\n",
       "      <th>age</th>\n",
       "      <th>spends</th>\n",
       "      <th>impressions</th>\n",
       "      <th>clicks</th>\n",
       "      <th>link_clicks</th>\n",
       "    </tr>\n",
       "  </thead>\n",
       "  <tbody>\n",
       "    <tr>\n",
       "      <th>0</th>\n",
       "      <td>2019-10-16</td>\n",
       "      <td>Google Ads</td>\n",
       "      <td>Brand</td>\n",
       "      <td>'-</td>\n",
       "      <td>'-</td>\n",
       "      <td>'-</td>\n",
       "      <td>Desktop</td>\n",
       "      <td>18-24</td>\n",
       "      <td>0</td>\n",
       "      <td>1</td>\n",
       "      <td>0</td>\n",
       "      <td>0.0</td>\n",
       "    </tr>\n",
       "    <tr>\n",
       "      <th>1</th>\n",
       "      <td>2019-10-16</td>\n",
       "      <td>Google Ads</td>\n",
       "      <td>Brand</td>\n",
       "      <td>'-</td>\n",
       "      <td>'-</td>\n",
       "      <td>'-</td>\n",
       "      <td>Desktop</td>\n",
       "      <td>25-34</td>\n",
       "      <td>0</td>\n",
       "      <td>1</td>\n",
       "      <td>0</td>\n",
       "      <td>0.0</td>\n",
       "    </tr>\n",
       "    <tr>\n",
       "      <th>2</th>\n",
       "      <td>2019-10-16</td>\n",
       "      <td>Google Ads</td>\n",
       "      <td>Brand</td>\n",
       "      <td>'-</td>\n",
       "      <td>'-</td>\n",
       "      <td>'-</td>\n",
       "      <td>Desktop</td>\n",
       "      <td>35-44</td>\n",
       "      <td>0</td>\n",
       "      <td>1</td>\n",
       "      <td>0</td>\n",
       "      <td>0.0</td>\n",
       "    </tr>\n",
       "    <tr>\n",
       "      <th>3</th>\n",
       "      <td>2019-10-16</td>\n",
       "      <td>Google Ads</td>\n",
       "      <td>Brand</td>\n",
       "      <td>'-</td>\n",
       "      <td>'-</td>\n",
       "      <td>'-</td>\n",
       "      <td>Desktop</td>\n",
       "      <td>Undetermined</td>\n",
       "      <td>1</td>\n",
       "      <td>1</td>\n",
       "      <td>3</td>\n",
       "      <td>0.0</td>\n",
       "    </tr>\n",
       "    <tr>\n",
       "      <th>17</th>\n",
       "      <td>2019-10-18</td>\n",
       "      <td>Google Ads</td>\n",
       "      <td>Brand</td>\n",
       "      <td>'-</td>\n",
       "      <td>'-</td>\n",
       "      <td>'-</td>\n",
       "      <td>Mobile</td>\n",
       "      <td>Undetermined</td>\n",
       "      <td>0</td>\n",
       "      <td>1</td>\n",
       "      <td>0</td>\n",
       "      <td>0.0</td>\n",
       "    </tr>\n",
       "  </tbody>\n",
       "</table>\n",
       "</div>"
      ],
      "text/plain": [
       "         Date campaign_platform subchannel audience_type creative_type  \\\n",
       "0  2019-10-16        Google Ads      Brand            '-            '-   \n",
       "1  2019-10-16        Google Ads      Brand            '-            '-   \n",
       "2  2019-10-16        Google Ads      Brand            '-            '-   \n",
       "3  2019-10-16        Google Ads      Brand            '-            '-   \n",
       "17 2019-10-18        Google Ads      Brand            '-            '-   \n",
       "\n",
       "   creative_name   device           age  spends  impressions  clicks  \\\n",
       "0             '-  Desktop         18-24       0            1       0   \n",
       "1             '-  Desktop         25-34       0            1       0   \n",
       "2             '-  Desktop         35-44       0            1       0   \n",
       "3             '-  Desktop  Undetermined       1            1       3   \n",
       "17            '-   Mobile  Undetermined       0            1       0   \n",
       "\n",
       "    link_clicks  \n",
       "0           0.0  \n",
       "1           0.0  \n",
       "2           0.0  \n",
       "3           0.0  \n",
       "17          0.0  "
      ]
     },
     "execution_count": 117,
     "metadata": {},
     "output_type": "execute_result"
    }
   ],
   "source": [
    "data.head()"
   ]
  },
  {
   "cell_type": "code",
   "execution_count": 118,
   "id": "a95fae7c",
   "metadata": {},
   "outputs": [
    {
     "name": "stderr",
     "output_type": "stream",
     "text": [
      "C:\\Users\\shail\\AppData\\Local\\Programs\\Python\\Python310\\lib\\site-packages\\seaborn\\_decorators.py:36: FutureWarning: Pass the following variable as a keyword arg: x. From version 0.12, the only valid positional argument will be `data`, and passing other arguments without an explicit keyword will result in an error or misinterpretation.\n",
      "  warnings.warn(\n"
     ]
    },
    {
     "data": {
      "image/png": "[encoded data removed]",
      "text/plain": [
       "<Figure size 864x360 with 1 Axes>"
      ]
     },
     "metadata": {
      "needs_background": "light"
     },
     "output_type": "display_data"
    }
   ],
   "source": [
    "plt.figure(figsize=(12 , 5))\n",
    "sns.countplot(\"impressions\", data=data)\n",
    "plt.title(\"Impressions\", fontsize = 30)\n",
    "plt.savefig(\"./images/impressions.png\")"
   ]
  },
  {
   "cell_type": "markdown",
   "id": "80e1ea00",
   "metadata": {},
   "source": [
    "### 15. Clicks"
   ]
  },
  {
   "cell_type": "code",
   "execution_count": 119,
   "id": "10e34184",
   "metadata": {},
   "outputs": [
    {
     "data": {
      "text/plain": [
       "array([   0,    3,    1,    4,   10,    2,    5,   11,    6,    9,    7,\n",
       "          8,   19,   12,   17,   18,   15,   24,   36,   60,   23,   48,\n",
       "         32,   35,   37,   30,   14,   28,   26,   51,   16,   47,   49,\n",
       "         42,   52,   50,   43,   20,   13,   53,   29,   33,   25,   40,\n",
       "         27,   65,   39,   69,   66,   31,   54,   72,   21,   63,   22,\n",
       "         57,   41,   76,  105,   46,   90,  113,   58,  133,   64,  125,\n",
       "         78,  121,   38,  106,   77,   79,  129,   87,   44,  103,   83,\n",
       "        136,  108,  126,   88,   99,   59,   34,   85,   73,   70,  109,\n",
       "         84,  115,   56,   82,  117,   45,  130,   74,   62,  114,   68,\n",
       "         55,   80,  124,  147,   75,   95,  116,  166,  152,  100,  110,\n",
       "         71,   86,  219,  102,  168,  142,  134,   67,  167,   98,  145,\n",
       "         93,  172,  120,   92,  156,  137,  160,  127,  324,   89,  158,\n",
       "        426,  128,  162,  417,   94,  135,   91,  199,  418,  111,  144,\n",
       "        396,  143,  131,   61,  249,  254,  391,  577,  150,  655,  211,\n",
       "        112,  139,  155,   81,  306,  104,  140,  119,  107,  154,   97,\n",
       "        148,  318,  405,  118,  448,  486,  496,  101,  399,  327,  192,\n",
       "        264,  132,  334,  294,  256,  317,  385,  208,  594,  552,  122,\n",
       "        811,  169,  328,  836,  181,  243,  153,  868,  214,  184,  223,\n",
       "        866,  924,  209,  586,  227,   96,  714,  230,  614,  217,  190,\n",
       "        138,  646,  346,  861,  257, 1075,  332, 1025,  902,  285,  157,\n",
       "        279,  978,  215,  739,  252,  792,  253,  880,  228,  781,  273,\n",
       "        899,  271,  793,  265,  716,  189,  612,  146,  628,  222,  599,\n",
       "        174,  653,  774,  771,  248,  261,  721,  159,  824,  232,  697,\n",
       "        745,  220,  229,  177,  702,  195,  551,  170,  597,  390],\n",
       "      dtype=int64)"
      ]
     },
     "execution_count": 119,
     "metadata": {},
     "output_type": "execute_result"
    }
   ],
   "source": [
    "data[\"clicks\"].unique()"
   ]
  },
  {
   "cell_type": "code",
   "execution_count": 120,
   "id": "da95a0e3",
   "metadata": {},
   "outputs": [
    {
     "data": {
      "text/plain": [
       "0      4530\n",
       "1      2821\n",
       "2      1605\n",
       "3      1119\n",
       "4       759\n",
       "       ... \n",
       "101       1\n",
       "496       1\n",
       "486       1\n",
       "448       1\n",
       "390       1\n",
       "Name: clicks, Length: 263, dtype: int64"
      ]
     },
     "execution_count": 120,
     "metadata": {},
     "output_type": "execute_result"
    }
   ],
   "source": [
    "data[\"clicks\"].value_counts()"
   ]
  },
  {
   "cell_type": "code",
   "execution_count": 121,
   "id": "a535b3cf",
   "metadata": {},
   "outputs": [
    {
     "name": "stderr",
     "output_type": "stream",
     "text": [
      "C:\\Users\\shail\\AppData\\Local\\Programs\\Python\\Python310\\lib\\site-packages\\seaborn\\distributions.py:2619: FutureWarning: `distplot` is a deprecated function and will be removed in a future version. Please adapt your code to use either `displot` (a figure-level function with similar flexibility) or `histplot` (an axes-level function for histograms).\n",
      "  warnings.warn(msg, FutureWarning)\n"
     ]
    },
    {
     "data": {
      "text/plain": [
       "<AxesSubplot:xlabel='clicks', ylabel='Density'>"
      ]
     },
     "execution_count": 121,
     "metadata": {},
     "output_type": "execute_result"
    },
    {
     "data": {
      "image/png": "[encoded data removed]",
      "text/plain": [
       "<Figure size 432x288 with 1 Axes>"
      ]
     },
     "metadata": {
      "needs_background": "light"
     },
     "output_type": "display_data"
    }
   ],
   "source": [
    "sns.distplot(data[\"clicks\"])"
   ]
  },
  {
   "cell_type": "code",
   "execution_count": 122,
   "id": "9ad53069",
   "metadata": {},
   "outputs": [
    {
     "name": "stderr",
     "output_type": "stream",
     "text": [
      "C:\\Users\\shail\\AppData\\Local\\Programs\\Python\\Python310\\lib\\site-packages\\seaborn\\distributions.py:2619: FutureWarning: `distplot` is a deprecated function and will be removed in a future version. Please adapt your code to use either `displot` (a figure-level function with similar flexibility) or `histplot` (an axes-level function for histograms).\n",
      "  warnings.warn(msg, FutureWarning)\n"
     ]
    },
    {
     "data": {
      "text/plain": [
       "<AxesSubplot:xlabel='clicks', ylabel='Density'>"
      ]
     },
     "execution_count": 122,
     "metadata": {},
     "output_type": "execute_result"
    },
    {
     "data": {
      "image/png": "[encoded data removed]",
      "text/plain": [
       "<Figure size 720x432 with 1 Axes>"
      ]
     },
     "metadata": {
      "needs_background": "light"
     },
     "output_type": "display_data"
    }
   ],
   "source": [
    "plt.figure(figsize=(10 , 6))\n",
    "sns.distplot(data[(data['clicks'] > 0) & (data['clicks'] > 10) ]['clicks'] )"
   ]
  },
  {
   "cell_type": "code",
   "execution_count": null,
   "id": "8ee0e9f0",
   "metadata": {},
   "outputs": [],
   "source": [
    "def cat_visitor_by_click(clicks):\n",
    "    if clicks == 0:\n",
    "        return 0\n",
    "    elif clicks >= 0 and clicks< 20:\n",
    "        return 1\n",
    "    elif clicks >20 and clicks<50:\n",
    "        return 2\n",
    "    elif clicks>50 and clicks<200:\n",
    "        return 3\n",
    "    else:\n",
    "        return 4"
   ]
  },
  {
   "cell_type": "code",
   "execution_count": 124,
   "id": "74132852",
   "metadata": {},
   "outputs": [],
   "source": [
    "data[\"clicks\"] = data[\"clicks\"].apply(lambda clicks: cat_visitor_by_click(clicks))"
   ]
  },
  {
   "cell_type": "code",
   "execution_count": 125,
   "id": "fe142b24",
   "metadata": {},
   "outputs": [
    {
     "data": {
      "text/html": [
       "<div>\n",
       "<style scoped>\n",
       "    .dataframe tbody tr th:only-of-type {\n",
       "        vertical-align: middle;\n",
       "    }\n",
       "\n",
       "    .dataframe tbody tr th {\n",
       "        vertical-align: top;\n",
       "    }\n",
       "\n",
       "    .dataframe thead th {\n",
       "        text-align: right;\n",
       "    }\n",
       "</style>\n",
       "<table border=\"1\" class=\"dataframe\">\n",
       "  <thead>\n",
       "    <tr style=\"text-align: right;\">\n",
       "      <th></th>\n",
       "      <th>Date</th>\n",
       "      <th>campaign_platform</th>\n",
       "      <th>subchannel</th>\n",
       "      <th>audience_type</th>\n",
       "      <th>creative_type</th>\n",
       "      <th>creative_name</th>\n",
       "      <th>device</th>\n",
       "      <th>age</th>\n",
       "      <th>spends</th>\n",
       "      <th>impressions</th>\n",
       "      <th>clicks</th>\n",
       "      <th>link_clicks</th>\n",
       "    </tr>\n",
       "  </thead>\n",
       "  <tbody>\n",
       "    <tr>\n",
       "      <th>0</th>\n",
       "      <td>2019-10-16</td>\n",
       "      <td>Google Ads</td>\n",
       "      <td>Brand</td>\n",
       "      <td>'-</td>\n",
       "      <td>'-</td>\n",
       "      <td>'-</td>\n",
       "      <td>Desktop</td>\n",
       "      <td>18-24</td>\n",
       "      <td>0</td>\n",
       "      <td>1</td>\n",
       "      <td>0</td>\n",
       "      <td>0.0</td>\n",
       "    </tr>\n",
       "    <tr>\n",
       "      <th>1</th>\n",
       "      <td>2019-10-16</td>\n",
       "      <td>Google Ads</td>\n",
       "      <td>Brand</td>\n",
       "      <td>'-</td>\n",
       "      <td>'-</td>\n",
       "      <td>'-</td>\n",
       "      <td>Desktop</td>\n",
       "      <td>25-34</td>\n",
       "      <td>0</td>\n",
       "      <td>1</td>\n",
       "      <td>0</td>\n",
       "      <td>0.0</td>\n",
       "    </tr>\n",
       "    <tr>\n",
       "      <th>2</th>\n",
       "      <td>2019-10-16</td>\n",
       "      <td>Google Ads</td>\n",
       "      <td>Brand</td>\n",
       "      <td>'-</td>\n",
       "      <td>'-</td>\n",
       "      <td>'-</td>\n",
       "      <td>Desktop</td>\n",
       "      <td>35-44</td>\n",
       "      <td>0</td>\n",
       "      <td>1</td>\n",
       "      <td>0</td>\n",
       "      <td>0.0</td>\n",
       "    </tr>\n",
       "    <tr>\n",
       "      <th>3</th>\n",
       "      <td>2019-10-16</td>\n",
       "      <td>Google Ads</td>\n",
       "      <td>Brand</td>\n",
       "      <td>'-</td>\n",
       "      <td>'-</td>\n",
       "      <td>'-</td>\n",
       "      <td>Desktop</td>\n",
       "      <td>Undetermined</td>\n",
       "      <td>1</td>\n",
       "      <td>1</td>\n",
       "      <td>1</td>\n",
       "      <td>0.0</td>\n",
       "    </tr>\n",
       "    <tr>\n",
       "      <th>17</th>\n",
       "      <td>2019-10-18</td>\n",
       "      <td>Google Ads</td>\n",
       "      <td>Brand</td>\n",
       "      <td>'-</td>\n",
       "      <td>'-</td>\n",
       "      <td>'-</td>\n",
       "      <td>Mobile</td>\n",
       "      <td>Undetermined</td>\n",
       "      <td>0</td>\n",
       "      <td>1</td>\n",
       "      <td>0</td>\n",
       "      <td>0.0</td>\n",
       "    </tr>\n",
       "  </tbody>\n",
       "</table>\n",
       "</div>"
      ],
      "text/plain": [
       "         Date campaign_platform subchannel audience_type creative_type  \\\n",
       "0  2019-10-16        Google Ads      Brand            '-            '-   \n",
       "1  2019-10-16        Google Ads      Brand            '-            '-   \n",
       "2  2019-10-16        Google Ads      Brand            '-            '-   \n",
       "3  2019-10-16        Google Ads      Brand            '-            '-   \n",
       "17 2019-10-18        Google Ads      Brand            '-            '-   \n",
       "\n",
       "   creative_name   device           age  spends  impressions  clicks  \\\n",
       "0             '-  Desktop         18-24       0            1       0   \n",
       "1             '-  Desktop         25-34       0            1       0   \n",
       "2             '-  Desktop         35-44       0            1       0   \n",
       "3             '-  Desktop  Undetermined       1            1       1   \n",
       "17            '-   Mobile  Undetermined       0            1       0   \n",
       "\n",
       "    link_clicks  \n",
       "0           0.0  \n",
       "1           0.0  \n",
       "2           0.0  \n",
       "3           0.0  \n",
       "17          0.0  "
      ]
     },
     "execution_count": 125,
     "metadata": {},
     "output_type": "execute_result"
    }
   ],
   "source": [
    "data.head()"
   ]
  },
  {
   "cell_type": "code",
   "execution_count": 126,
   "id": "523add70",
   "metadata": {},
   "outputs": [
    {
     "name": "stderr",
     "output_type": "stream",
     "text": [
      "C:\\Users\\shail\\AppData\\Local\\Programs\\Python\\Python310\\lib\\site-packages\\seaborn\\_decorators.py:36: FutureWarning: Pass the following variable as a keyword arg: x. From version 0.12, the only valid positional argument will be `data`, and passing other arguments without an explicit keyword will result in an error or misinterpretation.\n",
      "  warnings.warn(\n"
     ]
    },
    {
     "data": {
      "image/png": "[encoded data removed]",
      "text/plain": [
       "<Figure size 720x360 with 1 Axes>"
      ]
     },
     "metadata": {
      "needs_background": "light"
     },
     "output_type": "display_data"
    }
   ],
   "source": [
    "plt.figure(figsize=(10 , 5))\n",
    "sns.countplot(\"clicks\", data=data)\n",
    "plt.title(\"Clicks\")\n",
    "plt.savefig(\"./images/clicks.png\")"
   ]
  },
  {
   "cell_type": "markdown",
   "id": "aa24e38d",
   "metadata": {},
   "source": [
    "### 16. link clicks"
   ]
  },
  {
   "cell_type": "code",
   "execution_count": 127,
   "id": "e4aa4aec",
   "metadata": {},
   "outputs": [
    {
     "data": {
      "text/plain": [
       "array([  0.,  nan,   1.,   3.,   9.,   7.,   2.,   4.,  18.,   6.,  21.,\n",
       "        11.,  23.,   5.,  38.,   8.,  60.,  39.,  12.,  76.,  45.,  49.,\n",
       "        24.,  72.,  43.,  42.,  27.,  62.,  95.,  36.,  75.,  22.,  25.,\n",
       "        20.,  66.,  70.,  14.,  80.,  33.,  35.,  30.,  15.,  16.,  44.,\n",
       "        40.,  34.,  31.,  61.,  17.,  65.,  19.,  10.,  37.,  56.,  28.,\n",
       "        67.,  13.,  26., 137.,  29., 193.,  55., 187.,  46.,  84., 168.,\n",
       "        41., 161.,  47.,  94.,  98., 190., 221., 266.,  59.,  57., 151.,\n",
       "        68.,  48.,  54.,  82., 153., 192., 210., 222., 226., 149.,  58.,\n",
       "       138., 177., 140., 134., 165., 207., 270., 290.,  63., 336., 363.,\n",
       "       385.,  92.,  71., 126.,  99., 358., 377., 116.,  97.,  85., 260.,\n",
       "        86., 284., 104., 274.,  93.,  83., 269., 122., 383., 108., 450.,\n",
       "       135.,  32., 131., 431., 404., 125., 414.,  96., 308., 327., 114.,\n",
       "       333., 110., 379., 101., 335., 111., 382., 103., 324., 119., 321.,\n",
       "        88.,  53., 276., 252.,  77., 303.,  81., 299., 102., 354.,  89.,\n",
       "       300., 230.,  50., 302., 244., 277., 159.])"
      ]
     },
     "execution_count": 127,
     "metadata": {},
     "output_type": "execute_result"
    }
   ],
   "source": [
    "data[\"link_clicks\"].unique()"
   ]
  },
  {
   "cell_type": "code",
   "execution_count": 128,
   "id": "e551f042",
   "metadata": {},
   "outputs": [],
   "source": [
    "data[\"link_clicks\"] = data[\"link_clicks\"].fillna(1)"
   ]
  },
  {
   "cell_type": "code",
   "execution_count": 129,
   "id": "3b1c735d",
   "metadata": {},
   "outputs": [
    {
     "data": {
      "text/plain": [
       "array([  0.,   1.,   3.,   9.,   7.,   2.,   4.,  18.,   6.,  21.,  11.,\n",
       "        23.,   5.,  38.,   8.,  60.,  39.,  12.,  76.,  45.,  49.,  24.,\n",
       "        72.,  43.,  42.,  27.,  62.,  95.,  36.,  75.,  22.,  25.,  20.,\n",
       "        66.,  70.,  14.,  80.,  33.,  35.,  30.,  15.,  16.,  44.,  40.,\n",
       "        34.,  31.,  61.,  17.,  65.,  19.,  10.,  37.,  56.,  28.,  67.,\n",
       "        13.,  26., 137.,  29., 193.,  55., 187.,  46.,  84., 168.,  41.,\n",
       "       161.,  47.,  94.,  98., 190., 221., 266.,  59.,  57., 151.,  68.,\n",
       "        48.,  54.,  82., 153., 192., 210., 222., 226., 149.,  58., 138.,\n",
       "       177., 140., 134., 165., 207., 270., 290.,  63., 336., 363., 385.,\n",
       "        92.,  71., 126.,  99., 358., 377., 116.,  97.,  85., 260.,  86.,\n",
       "       284., 104., 274.,  93.,  83., 269., 122., 383., 108., 450., 135.,\n",
       "        32., 131., 431., 404., 125., 414.,  96., 308., 327., 114., 333.,\n",
       "       110., 379., 101., 335., 111., 382., 103., 324., 119., 321.,  88.,\n",
       "        53., 276., 252.,  77., 303.,  81., 299., 102., 354.,  89., 300.,\n",
       "       230.,  50., 302., 244., 277., 159.])"
      ]
     },
     "execution_count": 129,
     "metadata": {},
     "output_type": "execute_result"
    }
   ],
   "source": [
    "data[\"link_clicks\"].unique()"
   ]
  },
  {
   "cell_type": "markdown",
   "id": "ab132740",
   "metadata": {},
   "source": [
    "# done : "
   ]
  }
 ],
 "metadata": {
  "kernelspec": {
   "display_name": "Python 3 (ipykernel)",
   "language": "python",
   "name": "python3"
  },
  "language_info": {
   "codemirror_mode": {
    "name": "ipython",
    "version": 3
   },
   "file_extension": ".py",
   "mimetype": "text/x-python",
   "name": "python",
   "nbconvert_exporter": "python",
   "pygments_lexer": "ipython3",
   "version": "3.10.2"
  }
 },
 "nbformat": 4,
 "nbformat_minor": 5
}
